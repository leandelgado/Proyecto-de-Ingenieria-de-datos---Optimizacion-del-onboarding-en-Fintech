{
  "cells": [
    {
      "cell_type": "code",
      "execution_count": null,
      "metadata": {
        "colab": {
          "base_uri": "https://localhost:8080/"
        },
        "id": "SkxX7VUGKDj1",
        "outputId": "6a16cbfd-251a-4a6c-b0dd-be8cf66a2f22"
      },
      "outputs": [
        {
          "output_type": "stream",
          "name": "stdout",
          "text": [
            "Collecting astrapy\n",
            "  Downloading astrapy-2.0.1-py3-none-any.whl.metadata (23 kB)\n",
            "Collecting deprecation<2.2.0,>=2.1.0 (from astrapy)\n",
            "  Downloading deprecation-2.1.0-py2.py3-none-any.whl.metadata (4.6 kB)\n",
            "Requirement already satisfied: httpx<1,>=0.25.2 in /usr/local/lib/python3.11/dist-packages (from httpx[http2]<1,>=0.25.2->astrapy) (0.28.1)\n",
            "Collecting pymongo>=3 (from astrapy)\n",
            "  Downloading pymongo-4.13.2-cp311-cp311-manylinux_2_17_x86_64.manylinux2014_x86_64.whl.metadata (22 kB)\n",
            "Requirement already satisfied: toml<0.11.0,>=0.10.2 in /usr/local/lib/python3.11/dist-packages (from astrapy) (0.10.2)\n",
            "Requirement already satisfied: typing-extensions>=4.0 in /usr/local/lib/python3.11/dist-packages (from astrapy) (4.14.0)\n",
            "Collecting uuid6>=2024.1.12 (from astrapy)\n",
            "  Downloading uuid6-2025.0.0-py3-none-any.whl.metadata (10 kB)\n",
            "Requirement already satisfied: packaging in /usr/local/lib/python3.11/dist-packages (from deprecation<2.2.0,>=2.1.0->astrapy) (24.2)\n",
            "Requirement already satisfied: anyio in /usr/local/lib/python3.11/dist-packages (from httpx<1,>=0.25.2->httpx[http2]<1,>=0.25.2->astrapy) (4.9.0)\n",
            "Requirement already satisfied: certifi in /usr/local/lib/python3.11/dist-packages (from httpx<1,>=0.25.2->httpx[http2]<1,>=0.25.2->astrapy) (2025.6.15)\n",
            "Requirement already satisfied: httpcore==1.* in /usr/local/lib/python3.11/dist-packages (from httpx<1,>=0.25.2->httpx[http2]<1,>=0.25.2->astrapy) (1.0.9)\n",
            "Requirement already satisfied: idna in /usr/local/lib/python3.11/dist-packages (from httpx<1,>=0.25.2->httpx[http2]<1,>=0.25.2->astrapy) (3.10)\n",
            "Requirement already satisfied: h11>=0.16 in /usr/local/lib/python3.11/dist-packages (from httpcore==1.*->httpx<1,>=0.25.2->httpx[http2]<1,>=0.25.2->astrapy) (0.16.0)\n",
            "Requirement already satisfied: h2<5,>=3 in /usr/local/lib/python3.11/dist-packages (from httpx[http2]<1,>=0.25.2->astrapy) (4.2.0)\n",
            "Collecting dnspython<3.0.0,>=1.16.0 (from pymongo>=3->astrapy)\n",
            "  Downloading dnspython-2.7.0-py3-none-any.whl.metadata (5.8 kB)\n",
            "Requirement already satisfied: hyperframe<7,>=6.1 in /usr/local/lib/python3.11/dist-packages (from h2<5,>=3->httpx[http2]<1,>=0.25.2->astrapy) (6.1.0)\n",
            "Requirement already satisfied: hpack<5,>=4.1 in /usr/local/lib/python3.11/dist-packages (from h2<5,>=3->httpx[http2]<1,>=0.25.2->astrapy) (4.1.0)\n",
            "Requirement already satisfied: sniffio>=1.1 in /usr/local/lib/python3.11/dist-packages (from anyio->httpx<1,>=0.25.2->httpx[http2]<1,>=0.25.2->astrapy) (1.3.1)\n",
            "Downloading astrapy-2.0.1-py3-none-any.whl (300 kB)\n",
            "\u001b[2K   \u001b[90m━━━━━━━━━━━━━━━━━━━━━━━━━━━━━━━━━━━━━━━━\u001b[0m \u001b[32m300.5/300.5 kB\u001b[0m \u001b[31m7.7 MB/s\u001b[0m eta \u001b[36m0:00:00\u001b[0m\n",
            "\u001b[?25hDownloading deprecation-2.1.0-py2.py3-none-any.whl (11 kB)\n",
            "Downloading pymongo-4.13.2-cp311-cp311-manylinux_2_17_x86_64.manylinux2014_x86_64.whl (1.4 MB)\n",
            "\u001b[2K   \u001b[90m━━━━━━━━━━━━━━━━━━━━━━━━━━━━━━━━━━━━━━━━\u001b[0m \u001b[32m1.4/1.4 MB\u001b[0m \u001b[31m29.6 MB/s\u001b[0m eta \u001b[36m0:00:00\u001b[0m\n",
            "\u001b[?25hDownloading uuid6-2025.0.0-py3-none-any.whl (7.0 kB)\n",
            "Downloading dnspython-2.7.0-py3-none-any.whl (313 kB)\n",
            "\u001b[2K   \u001b[90m━━━━━━━━━━━━━━━━━━━━━━━━━━━━━━━━━━━━━━━━\u001b[0m \u001b[32m313.6/313.6 kB\u001b[0m \u001b[31m21.1 MB/s\u001b[0m eta \u001b[36m0:00:00\u001b[0m\n",
            "\u001b[?25hInstalling collected packages: uuid6, dnspython, deprecation, pymongo, astrapy\n",
            "Successfully installed astrapy-2.0.1 deprecation-2.1.0 dnspython-2.7.0 pymongo-4.13.2 uuid6-2025.0.0\n"
          ]
        }
      ],
      "source": [
        "# Se instala la libreria astrapy para conexion con la BD de Cassandra\n",
        "!pip install --upgrade astrapy"
      ]
    },
    {
      "cell_type": "code",
      "execution_count": null,
      "metadata": {
        "id": "uANU-80dKR37"
      },
      "outputs": [],
      "source": [
        "# Se importan las librerias necesarias\n",
        "from astrapy import DataAPIClient\n",
        "import pandas as pd\n",
        "import numpy as np\n",
        "from pyspark.sql import SparkSession\n",
        "from pyspark.sql.types import *\n",
        "from datetime import datetime\n",
        "from pyspark.sql.types import IntegerType, TimestampType\n",
        "from pyspark.sql.functions import to_timestamp\n",
        "from pyspark.sql.functions import col, sum, when\n",
        "from pyspark.sql import functions as F"
      ]
    },
    {
      "cell_type": "code",
      "execution_count": null,
      "metadata": {
        "id": "4UBs1U_TLwaz"
      },
      "outputs": [],
      "source": [
        "# Se carga el token generado por nuestra BD Cassandra\n",
        "from google.colab import userdata\n",
        "token = userdata.get('token')"
      ]
    },
    {
      "cell_type": "code",
      "execution_count": null,
      "metadata": {
        "colab": {
          "base_uri": "https://localhost:8080/"
        },
        "id": "aufBWV-CK0D0",
        "outputId": "5613dd1e-ec1a-43af-ee0e-310071e2037d"
      },
      "outputs": [
        {
          "output_type": "stream",
          "name": "stdout",
          "text": [
            "Connected to Astra DB: []\n"
          ]
        }
      ],
      "source": [
        "# Se realiza la conexion con la BD\n",
        "client = DataAPIClient(token)\n",
        "db = client.get_database_by_api_endpoint(\n",
        "  \"https://4d0012cb-974a-4358-8adc-9674bb16b79d-us-east-2.apps.astra.datastax.com\"\n",
        ")\n",
        "\n",
        "print(f\"Connected to Astra DB: {db.list_collection_names()}\")"
      ]
    },
    {
      "cell_type": "code",
      "execution_count": null,
      "metadata": {
        "id": "OIuMsOABMICG"
      },
      "outputs": [],
      "source": [
        "# Se define una funcion para la carga en la BD\n",
        "def insertar(df, coleccion, keyspace):\n",
        "    for col in df.columns:\n",
        "        if df[col].dtype == 'datetime64[ns]':\n",
        "            df[col] = df[col].dt.isoformat()\n",
        "\n",
        "    collection = db.create_collection(coleccion, keyspace=keyspace)\n",
        "    collection.insert_many(df.to_dict(orient=\"records\"))\n",
        "    print(f\"Colección {coleccion} fue correctamente poblada...!\")"
      ]
    },
    {
      "cell_type": "code",
      "execution_count": null,
      "metadata": {
        "id": "pKBso2T1MeYz"
      },
      "outputs": [],
      "source": [
        "# Se leen los archivos .csv\n",
        "users = pd.read_csv('/dim_users.csv')\n",
        "onboarding = pd.read_csv('/fact_users_onboarding.csv')\n",
        "transactions = pd.read_csv('/fact_users_transactions.csv')"
      ]
    },
    {
      "cell_type": "code",
      "execution_count": null,
      "metadata": {
        "id": "vRZDLcLyNPfP",
        "colab": {
          "base_uri": "https://localhost:8080/",
          "height": 206
        },
        "outputId": "f66ca25c-af69-4c00-edc3-982216e75d90"
      },
      "outputs": [
        {
          "output_type": "execute_result",
          "data": {
            "text/plain": [
              "   Unnamed: 0          user_id                  name  \\\n",
              "0           0  MLB410638994850  Carlos Eduardo Moura   \n",
              "1           1   MLB44585068070      João Vitor Cunha   \n",
              "2           2    MLB4815806440        Fernando Costa   \n",
              "3           3    MLB3944955860   Maria Clara Azevedo   \n",
              "4           4     MLB747760490  Srta. Fernanda Jesus   \n",
              "\n",
              "                            email  \\\n",
              "0       cardosoisabel@example.com   \n",
              "1  ana-luizarodrigues@example.com   \n",
              "2      nogueirathiago@example.org   \n",
              "3      souzafrancisco@example.org   \n",
              "4           nicolas88@example.org   \n",
              "\n",
              "                                             address    birth_dt  \\\n",
              "0  Feira Sales, 51\\nCarmo\\n49826-972 da Mata do C...  1958-03-07   \n",
              "1  Distrito da Luz, 4\\nFrei Leopoldo\\n71718588 Co...  1978-06-09   \n",
              "2  Passarela da Rosa, 95\\nGlória\\n46105-403 Melo ...  2001-03-13   \n",
              "3  Setor Yago Almeida, 7\\nParaíso\\n88387-297 Silv...  1915-03-05   \n",
              "4  Lago de da Rosa, 85\\nBelvedere\\n41665068 da Ro...  1994-09-27   \n",
              "\n",
              "                 phone  type  rubro  \n",
              "0         84 8887 0394   8.0    1.0  \n",
              "1         51 9358 7614   8.0    9.0  \n",
              "2        0300 560 1075   9.0    2.0  \n",
              "3  +55 (011) 5809 4712   NaN    NaN  \n",
              "4     +55 51 6154 7175   NaN    NaN  "
            ],
            "text/html": [
              "\n",
              "  <div id=\"df-707dce64-27de-4c00-abf0-7ea9b0458078\" class=\"colab-df-container\">\n",
              "    <div>\n",
              "<style scoped>\n",
              "    .dataframe tbody tr th:only-of-type {\n",
              "        vertical-align: middle;\n",
              "    }\n",
              "\n",
              "    .dataframe tbody tr th {\n",
              "        vertical-align: top;\n",
              "    }\n",
              "\n",
              "    .dataframe thead th {\n",
              "        text-align: right;\n",
              "    }\n",
              "</style>\n",
              "<table border=\"1\" class=\"dataframe\">\n",
              "  <thead>\n",
              "    <tr style=\"text-align: right;\">\n",
              "      <th></th>\n",
              "      <th>Unnamed: 0</th>\n",
              "      <th>user_id</th>\n",
              "      <th>name</th>\n",
              "      <th>email</th>\n",
              "      <th>address</th>\n",
              "      <th>birth_dt</th>\n",
              "      <th>phone</th>\n",
              "      <th>type</th>\n",
              "      <th>rubro</th>\n",
              "    </tr>\n",
              "  </thead>\n",
              "  <tbody>\n",
              "    <tr>\n",
              "      <th>0</th>\n",
              "      <td>0</td>\n",
              "      <td>MLB410638994850</td>\n",
              "      <td>Carlos Eduardo Moura</td>\n",
              "      <td>cardosoisabel@example.com</td>\n",
              "      <td>Feira Sales, 51\\nCarmo\\n49826-972 da Mata do C...</td>\n",
              "      <td>1958-03-07</td>\n",
              "      <td>84 8887 0394</td>\n",
              "      <td>8.0</td>\n",
              "      <td>1.0</td>\n",
              "    </tr>\n",
              "    <tr>\n",
              "      <th>1</th>\n",
              "      <td>1</td>\n",
              "      <td>MLB44585068070</td>\n",
              "      <td>João Vitor Cunha</td>\n",
              "      <td>ana-luizarodrigues@example.com</td>\n",
              "      <td>Distrito da Luz, 4\\nFrei Leopoldo\\n71718588 Co...</td>\n",
              "      <td>1978-06-09</td>\n",
              "      <td>51 9358 7614</td>\n",
              "      <td>8.0</td>\n",
              "      <td>9.0</td>\n",
              "    </tr>\n",
              "    <tr>\n",
              "      <th>2</th>\n",
              "      <td>2</td>\n",
              "      <td>MLB4815806440</td>\n",
              "      <td>Fernando Costa</td>\n",
              "      <td>nogueirathiago@example.org</td>\n",
              "      <td>Passarela da Rosa, 95\\nGlória\\n46105-403 Melo ...</td>\n",
              "      <td>2001-03-13</td>\n",
              "      <td>0300 560 1075</td>\n",
              "      <td>9.0</td>\n",
              "      <td>2.0</td>\n",
              "    </tr>\n",
              "    <tr>\n",
              "      <th>3</th>\n",
              "      <td>3</td>\n",
              "      <td>MLB3944955860</td>\n",
              "      <td>Maria Clara Azevedo</td>\n",
              "      <td>souzafrancisco@example.org</td>\n",
              "      <td>Setor Yago Almeida, 7\\nParaíso\\n88387-297 Silv...</td>\n",
              "      <td>1915-03-05</td>\n",
              "      <td>+55 (011) 5809 4712</td>\n",
              "      <td>NaN</td>\n",
              "      <td>NaN</td>\n",
              "    </tr>\n",
              "    <tr>\n",
              "      <th>4</th>\n",
              "      <td>4</td>\n",
              "      <td>MLB747760490</td>\n",
              "      <td>Srta. Fernanda Jesus</td>\n",
              "      <td>nicolas88@example.org</td>\n",
              "      <td>Lago de da Rosa, 85\\nBelvedere\\n41665068 da Ro...</td>\n",
              "      <td>1994-09-27</td>\n",
              "      <td>+55 51 6154 7175</td>\n",
              "      <td>NaN</td>\n",
              "      <td>NaN</td>\n",
              "    </tr>\n",
              "  </tbody>\n",
              "</table>\n",
              "</div>\n",
              "    <div class=\"colab-df-buttons\">\n",
              "\n",
              "  <div class=\"colab-df-container\">\n",
              "    <button class=\"colab-df-convert\" onclick=\"convertToInteractive('df-707dce64-27de-4c00-abf0-7ea9b0458078')\"\n",
              "            title=\"Convert this dataframe to an interactive table.\"\n",
              "            style=\"display:none;\">\n",
              "\n",
              "  <svg xmlns=\"http://www.w3.org/2000/svg\" height=\"24px\" viewBox=\"0 -960 960 960\">\n",
              "    <path d=\"M120-120v-720h720v720H120Zm60-500h600v-160H180v160Zm220 220h160v-160H400v160Zm0 220h160v-160H400v160ZM180-400h160v-160H180v160Zm440 0h160v-160H620v160ZM180-180h160v-160H180v160Zm440 0h160v-160H620v160Z\"/>\n",
              "  </svg>\n",
              "    </button>\n",
              "\n",
              "  <style>\n",
              "    .colab-df-container {\n",
              "      display:flex;\n",
              "      gap: 12px;\n",
              "    }\n",
              "\n",
              "    .colab-df-convert {\n",
              "      background-color: #E8F0FE;\n",
              "      border: none;\n",
              "      border-radius: 50%;\n",
              "      cursor: pointer;\n",
              "      display: none;\n",
              "      fill: #1967D2;\n",
              "      height: 32px;\n",
              "      padding: 0 0 0 0;\n",
              "      width: 32px;\n",
              "    }\n",
              "\n",
              "    .colab-df-convert:hover {\n",
              "      background-color: #E2EBFA;\n",
              "      box-shadow: 0px 1px 2px rgba(60, 64, 67, 0.3), 0px 1px 3px 1px rgba(60, 64, 67, 0.15);\n",
              "      fill: #174EA6;\n",
              "    }\n",
              "\n",
              "    .colab-df-buttons div {\n",
              "      margin-bottom: 4px;\n",
              "    }\n",
              "\n",
              "    [theme=dark] .colab-df-convert {\n",
              "      background-color: #3B4455;\n",
              "      fill: #D2E3FC;\n",
              "    }\n",
              "\n",
              "    [theme=dark] .colab-df-convert:hover {\n",
              "      background-color: #434B5C;\n",
              "      box-shadow: 0px 1px 3px 1px rgba(0, 0, 0, 0.15);\n",
              "      filter: drop-shadow(0px 1px 2px rgba(0, 0, 0, 0.3));\n",
              "      fill: #FFFFFF;\n",
              "    }\n",
              "  </style>\n",
              "\n",
              "    <script>\n",
              "      const buttonEl =\n",
              "        document.querySelector('#df-707dce64-27de-4c00-abf0-7ea9b0458078 button.colab-df-convert');\n",
              "      buttonEl.style.display =\n",
              "        google.colab.kernel.accessAllowed ? 'block' : 'none';\n",
              "\n",
              "      async function convertToInteractive(key) {\n",
              "        const element = document.querySelector('#df-707dce64-27de-4c00-abf0-7ea9b0458078');\n",
              "        const dataTable =\n",
              "          await google.colab.kernel.invokeFunction('convertToInteractive',\n",
              "                                                    [key], {});\n",
              "        if (!dataTable) return;\n",
              "\n",
              "        const docLinkHtml = 'Like what you see? Visit the ' +\n",
              "          '<a target=\"_blank\" href=https://colab.research.google.com/notebooks/data_table.ipynb>data table notebook</a>'\n",
              "          + ' to learn more about interactive tables.';\n",
              "        element.innerHTML = '';\n",
              "        dataTable['output_type'] = 'display_data';\n",
              "        await google.colab.output.renderOutput(dataTable, element);\n",
              "        const docLink = document.createElement('div');\n",
              "        docLink.innerHTML = docLinkHtml;\n",
              "        element.appendChild(docLink);\n",
              "      }\n",
              "    </script>\n",
              "  </div>\n",
              "\n",
              "\n",
              "    <div id=\"df-7c03269c-baa6-4567-96cd-61e03f9269be\">\n",
              "      <button class=\"colab-df-quickchart\" onclick=\"quickchart('df-7c03269c-baa6-4567-96cd-61e03f9269be')\"\n",
              "                title=\"Suggest charts\"\n",
              "                style=\"display:none;\">\n",
              "\n",
              "<svg xmlns=\"http://www.w3.org/2000/svg\" height=\"24px\"viewBox=\"0 0 24 24\"\n",
              "     width=\"24px\">\n",
              "    <g>\n",
              "        <path d=\"M19 3H5c-1.1 0-2 .9-2 2v14c0 1.1.9 2 2 2h14c1.1 0 2-.9 2-2V5c0-1.1-.9-2-2-2zM9 17H7v-7h2v7zm4 0h-2V7h2v10zm4 0h-2v-4h2v4z\"/>\n",
              "    </g>\n",
              "</svg>\n",
              "      </button>\n",
              "\n",
              "<style>\n",
              "  .colab-df-quickchart {\n",
              "      --bg-color: #E8F0FE;\n",
              "      --fill-color: #1967D2;\n",
              "      --hover-bg-color: #E2EBFA;\n",
              "      --hover-fill-color: #174EA6;\n",
              "      --disabled-fill-color: #AAA;\n",
              "      --disabled-bg-color: #DDD;\n",
              "  }\n",
              "\n",
              "  [theme=dark] .colab-df-quickchart {\n",
              "      --bg-color: #3B4455;\n",
              "      --fill-color: #D2E3FC;\n",
              "      --hover-bg-color: #434B5C;\n",
              "      --hover-fill-color: #FFFFFF;\n",
              "      --disabled-bg-color: #3B4455;\n",
              "      --disabled-fill-color: #666;\n",
              "  }\n",
              "\n",
              "  .colab-df-quickchart {\n",
              "    background-color: var(--bg-color);\n",
              "    border: none;\n",
              "    border-radius: 50%;\n",
              "    cursor: pointer;\n",
              "    display: none;\n",
              "    fill: var(--fill-color);\n",
              "    height: 32px;\n",
              "    padding: 0;\n",
              "    width: 32px;\n",
              "  }\n",
              "\n",
              "  .colab-df-quickchart:hover {\n",
              "    background-color: var(--hover-bg-color);\n",
              "    box-shadow: 0 1px 2px rgba(60, 64, 67, 0.3), 0 1px 3px 1px rgba(60, 64, 67, 0.15);\n",
              "    fill: var(--button-hover-fill-color);\n",
              "  }\n",
              "\n",
              "  .colab-df-quickchart-complete:disabled,\n",
              "  .colab-df-quickchart-complete:disabled:hover {\n",
              "    background-color: var(--disabled-bg-color);\n",
              "    fill: var(--disabled-fill-color);\n",
              "    box-shadow: none;\n",
              "  }\n",
              "\n",
              "  .colab-df-spinner {\n",
              "    border: 2px solid var(--fill-color);\n",
              "    border-color: transparent;\n",
              "    border-bottom-color: var(--fill-color);\n",
              "    animation:\n",
              "      spin 1s steps(1) infinite;\n",
              "  }\n",
              "\n",
              "  @keyframes spin {\n",
              "    0% {\n",
              "      border-color: transparent;\n",
              "      border-bottom-color: var(--fill-color);\n",
              "      border-left-color: var(--fill-color);\n",
              "    }\n",
              "    20% {\n",
              "      border-color: transparent;\n",
              "      border-left-color: var(--fill-color);\n",
              "      border-top-color: var(--fill-color);\n",
              "    }\n",
              "    30% {\n",
              "      border-color: transparent;\n",
              "      border-left-color: var(--fill-color);\n",
              "      border-top-color: var(--fill-color);\n",
              "      border-right-color: var(--fill-color);\n",
              "    }\n",
              "    40% {\n",
              "      border-color: transparent;\n",
              "      border-right-color: var(--fill-color);\n",
              "      border-top-color: var(--fill-color);\n",
              "    }\n",
              "    60% {\n",
              "      border-color: transparent;\n",
              "      border-right-color: var(--fill-color);\n",
              "    }\n",
              "    80% {\n",
              "      border-color: transparent;\n",
              "      border-right-color: var(--fill-color);\n",
              "      border-bottom-color: var(--fill-color);\n",
              "    }\n",
              "    90% {\n",
              "      border-color: transparent;\n",
              "      border-bottom-color: var(--fill-color);\n",
              "    }\n",
              "  }\n",
              "</style>\n",
              "\n",
              "      <script>\n",
              "        async function quickchart(key) {\n",
              "          const quickchartButtonEl =\n",
              "            document.querySelector('#' + key + ' button');\n",
              "          quickchartButtonEl.disabled = true;  // To prevent multiple clicks.\n",
              "          quickchartButtonEl.classList.add('colab-df-spinner');\n",
              "          try {\n",
              "            const charts = await google.colab.kernel.invokeFunction(\n",
              "                'suggestCharts', [key], {});\n",
              "          } catch (error) {\n",
              "            console.error('Error during call to suggestCharts:', error);\n",
              "          }\n",
              "          quickchartButtonEl.classList.remove('colab-df-spinner');\n",
              "          quickchartButtonEl.classList.add('colab-df-quickchart-complete');\n",
              "        }\n",
              "        (() => {\n",
              "          let quickchartButtonEl =\n",
              "            document.querySelector('#df-7c03269c-baa6-4567-96cd-61e03f9269be button');\n",
              "          quickchartButtonEl.style.display =\n",
              "            google.colab.kernel.accessAllowed ? 'block' : 'none';\n",
              "        })();\n",
              "      </script>\n",
              "    </div>\n",
              "\n",
              "    </div>\n",
              "  </div>\n"
            ],
            "application/vnd.google.colaboratory.intrinsic+json": {
              "type": "dataframe",
              "variable_name": "users",
              "summary": "{\n  \"name\": \"users\",\n  \"rows\": 13000,\n  \"fields\": [\n    {\n      \"column\": \"Unnamed: 0\",\n      \"properties\": {\n        \"dtype\": \"number\",\n        \"std\": 3752,\n        \"min\": 0,\n        \"max\": 12999,\n        \"num_unique_values\": 13000,\n        \"samples\": [\n          3615,\n          2536,\n          5397\n        ],\n        \"semantic_type\": \"\",\n        \"description\": \"\"\n      }\n    },\n    {\n      \"column\": \"user_id\",\n      \"properties\": {\n        \"dtype\": \"string\",\n        \"num_unique_values\": 13000,\n        \"samples\": [\n          \"MLB47305030120\",\n          \"MLB5225255280-1\",\n          \"MLB10199505090\"\n        ],\n        \"semantic_type\": \"\",\n        \"description\": \"\"\n      }\n    },\n    {\n      \"column\": \"name\",\n      \"properties\": {\n        \"dtype\": \"string\",\n        \"num_unique_values\": 9738,\n        \"samples\": [\n          \"Maria Sophia Martins\",\n          \"Sabrina Barros\",\n          \"Isaac Caldeira\"\n        ],\n        \"semantic_type\": \"\",\n        \"description\": \"\"\n      }\n    },\n    {\n      \"column\": \"email\",\n      \"properties\": {\n        \"dtype\": \"string\",\n        \"num_unique_values\": 11840,\n        \"samples\": [\n          \"fogacaluigi@example.org\",\n          \"vianathiago@example.org\",\n          \"nathan36@example.net\"\n        ],\n        \"semantic_type\": \"\",\n        \"description\": \"\"\n      }\n    },\n    {\n      \"column\": \"address\",\n      \"properties\": {\n        \"dtype\": \"string\",\n        \"num_unique_values\": 13000,\n        \"samples\": [\n          \"Pra\\u00e7a Carolina Novaes, 48\\nSanta Rosa\\n26179092 Monteiro / RJ\",\n          \"Loteamento de Moura, 11\\nCdi Jatoba\\n32266437 Peixoto / MS\",\n          \"Parque de Castro, 51\\nPara\\u00edso\\n97497-385 Cunha de Fernandes / GO\"\n        ],\n        \"semantic_type\": \"\",\n        \"description\": \"\"\n      }\n    },\n    {\n      \"column\": \"birth_dt\",\n      \"properties\": {\n        \"dtype\": \"object\",\n        \"num_unique_values\": 11182,\n        \"samples\": [\n          \"1980-09-02\",\n          \"1907-12-01\",\n          \"1996-11-23\"\n        ],\n        \"semantic_type\": \"\",\n        \"description\": \"\"\n      }\n    },\n    {\n      \"column\": \"phone\",\n      \"properties\": {\n        \"dtype\": \"string\",\n        \"num_unique_values\": 13000,\n        \"samples\": [\n          \"(051) 9855-1460\",\n          \"+55 41 4681 3919\",\n          \"+55 (081) 7982 9259\"\n        ],\n        \"semantic_type\": \"\",\n        \"description\": \"\"\n      }\n    },\n    {\n      \"column\": \"type\",\n      \"properties\": {\n        \"dtype\": \"number\",\n        \"std\": 0.49959366270565464,\n        \"min\": 8.0,\n        \"max\": 9.0,\n        \"num_unique_values\": 2,\n        \"samples\": [\n          9.0,\n          8.0\n        ],\n        \"semantic_type\": \"\",\n        \"description\": \"\"\n      }\n    },\n    {\n      \"column\": \"rubro\",\n      \"properties\": {\n        \"dtype\": \"number\",\n        \"std\": 2.5801698370832122,\n        \"min\": 1.0,\n        \"max\": 9.0,\n        \"num_unique_values\": 9,\n        \"samples\": [\n          5.0,\n          9.0\n        ],\n        \"semantic_type\": \"\",\n        \"description\": \"\"\n      }\n    }\n  ]\n}"
            }
          },
          "metadata": {},
          "execution_count": 8
        }
      ],
      "source": [
        "users.head()"
      ]
    },
    {
      "cell_type": "code",
      "execution_count": null,
      "metadata": {
        "id": "B9RCE9KkNUOC",
        "colab": {
          "base_uri": "https://localhost:8080/",
          "height": 206
        },
        "outputId": "9a23cb99-d8fd-4efc-9099-06c708e39dfc"
      },
      "outputs": [
        {
          "output_type": "execute_result",
          "data": {
            "text/plain": [
              "   Unnamed: 0.1  Unnamed: 0       first_login_dt  week_year         user_id  \\\n",
              "0             0      9847.0           2022-01-03          1   MLB7745503990   \n",
              "1             1      3346.0           2022-01-04          1  MLB10508061470   \n",
              "2             2     11261.0  2022-01-23 00:00:00          3  MLB10618286450   \n",
              "3             3      6273.0           2022-01-03          1    MLB743362200   \n",
              "4             4       860.0           2022-01-16          2   MLB2467761450   \n",
              "\n",
              "   habito habito_dt  activacion activacion_dt  setup    setup_dt  return  \\\n",
              "0     0.0       NaN           0           NaN      0         NaN       0   \n",
              "1     0.0       NaN           1    2022-01-06      1  2022-01-04       1   \n",
              "2     0.0       NaN           0           NaN      0         NaN       0   \n",
              "3     0.0       NaN           1    2022-01-03      0         NaN       0   \n",
              "4     0.0       NaN           1    2022-01-17      1  2022-01-17       1   \n",
              "\n",
              "    return_dt  \n",
              "0         NaN  \n",
              "1  2022-01-06  \n",
              "2         NaN  \n",
              "3         NaN  \n",
              "4  2022-01-17  "
            ],
            "text/html": [
              "\n",
              "  <div id=\"df-ee975690-2feb-4f42-a58c-2cf97c260153\" class=\"colab-df-container\">\n",
              "    <div>\n",
              "<style scoped>\n",
              "    .dataframe tbody tr th:only-of-type {\n",
              "        vertical-align: middle;\n",
              "    }\n",
              "\n",
              "    .dataframe tbody tr th {\n",
              "        vertical-align: top;\n",
              "    }\n",
              "\n",
              "    .dataframe thead th {\n",
              "        text-align: right;\n",
              "    }\n",
              "</style>\n",
              "<table border=\"1\" class=\"dataframe\">\n",
              "  <thead>\n",
              "    <tr style=\"text-align: right;\">\n",
              "      <th></th>\n",
              "      <th>Unnamed: 0.1</th>\n",
              "      <th>Unnamed: 0</th>\n",
              "      <th>first_login_dt</th>\n",
              "      <th>week_year</th>\n",
              "      <th>user_id</th>\n",
              "      <th>habito</th>\n",
              "      <th>habito_dt</th>\n",
              "      <th>activacion</th>\n",
              "      <th>activacion_dt</th>\n",
              "      <th>setup</th>\n",
              "      <th>setup_dt</th>\n",
              "      <th>return</th>\n",
              "      <th>return_dt</th>\n",
              "    </tr>\n",
              "  </thead>\n",
              "  <tbody>\n",
              "    <tr>\n",
              "      <th>0</th>\n",
              "      <td>0</td>\n",
              "      <td>9847.0</td>\n",
              "      <td>2022-01-03</td>\n",
              "      <td>1</td>\n",
              "      <td>MLB7745503990</td>\n",
              "      <td>0.0</td>\n",
              "      <td>NaN</td>\n",
              "      <td>0</td>\n",
              "      <td>NaN</td>\n",
              "      <td>0</td>\n",
              "      <td>NaN</td>\n",
              "      <td>0</td>\n",
              "      <td>NaN</td>\n",
              "    </tr>\n",
              "    <tr>\n",
              "      <th>1</th>\n",
              "      <td>1</td>\n",
              "      <td>3346.0</td>\n",
              "      <td>2022-01-04</td>\n",
              "      <td>1</td>\n",
              "      <td>MLB10508061470</td>\n",
              "      <td>0.0</td>\n",
              "      <td>NaN</td>\n",
              "      <td>1</td>\n",
              "      <td>2022-01-06</td>\n",
              "      <td>1</td>\n",
              "      <td>2022-01-04</td>\n",
              "      <td>1</td>\n",
              "      <td>2022-01-06</td>\n",
              "    </tr>\n",
              "    <tr>\n",
              "      <th>2</th>\n",
              "      <td>2</td>\n",
              "      <td>11261.0</td>\n",
              "      <td>2022-01-23 00:00:00</td>\n",
              "      <td>3</td>\n",
              "      <td>MLB10618286450</td>\n",
              "      <td>0.0</td>\n",
              "      <td>NaN</td>\n",
              "      <td>0</td>\n",
              "      <td>NaN</td>\n",
              "      <td>0</td>\n",
              "      <td>NaN</td>\n",
              "      <td>0</td>\n",
              "      <td>NaN</td>\n",
              "    </tr>\n",
              "    <tr>\n",
              "      <th>3</th>\n",
              "      <td>3</td>\n",
              "      <td>6273.0</td>\n",
              "      <td>2022-01-03</td>\n",
              "      <td>1</td>\n",
              "      <td>MLB743362200</td>\n",
              "      <td>0.0</td>\n",
              "      <td>NaN</td>\n",
              "      <td>1</td>\n",
              "      <td>2022-01-03</td>\n",
              "      <td>0</td>\n",
              "      <td>NaN</td>\n",
              "      <td>0</td>\n",
              "      <td>NaN</td>\n",
              "    </tr>\n",
              "    <tr>\n",
              "      <th>4</th>\n",
              "      <td>4</td>\n",
              "      <td>860.0</td>\n",
              "      <td>2022-01-16</td>\n",
              "      <td>2</td>\n",
              "      <td>MLB2467761450</td>\n",
              "      <td>0.0</td>\n",
              "      <td>NaN</td>\n",
              "      <td>1</td>\n",
              "      <td>2022-01-17</td>\n",
              "      <td>1</td>\n",
              "      <td>2022-01-17</td>\n",
              "      <td>1</td>\n",
              "      <td>2022-01-17</td>\n",
              "    </tr>\n",
              "  </tbody>\n",
              "</table>\n",
              "</div>\n",
              "    <div class=\"colab-df-buttons\">\n",
              "\n",
              "  <div class=\"colab-df-container\">\n",
              "    <button class=\"colab-df-convert\" onclick=\"convertToInteractive('df-ee975690-2feb-4f42-a58c-2cf97c260153')\"\n",
              "            title=\"Convert this dataframe to an interactive table.\"\n",
              "            style=\"display:none;\">\n",
              "\n",
              "  <svg xmlns=\"http://www.w3.org/2000/svg\" height=\"24px\" viewBox=\"0 -960 960 960\">\n",
              "    <path d=\"M120-120v-720h720v720H120Zm60-500h600v-160H180v160Zm220 220h160v-160H400v160Zm0 220h160v-160H400v160ZM180-400h160v-160H180v160Zm440 0h160v-160H620v160ZM180-180h160v-160H180v160Zm440 0h160v-160H620v160Z\"/>\n",
              "  </svg>\n",
              "    </button>\n",
              "\n",
              "  <style>\n",
              "    .colab-df-container {\n",
              "      display:flex;\n",
              "      gap: 12px;\n",
              "    }\n",
              "\n",
              "    .colab-df-convert {\n",
              "      background-color: #E8F0FE;\n",
              "      border: none;\n",
              "      border-radius: 50%;\n",
              "      cursor: pointer;\n",
              "      display: none;\n",
              "      fill: #1967D2;\n",
              "      height: 32px;\n",
              "      padding: 0 0 0 0;\n",
              "      width: 32px;\n",
              "    }\n",
              "\n",
              "    .colab-df-convert:hover {\n",
              "      background-color: #E2EBFA;\n",
              "      box-shadow: 0px 1px 2px rgba(60, 64, 67, 0.3), 0px 1px 3px 1px rgba(60, 64, 67, 0.15);\n",
              "      fill: #174EA6;\n",
              "    }\n",
              "\n",
              "    .colab-df-buttons div {\n",
              "      margin-bottom: 4px;\n",
              "    }\n",
              "\n",
              "    [theme=dark] .colab-df-convert {\n",
              "      background-color: #3B4455;\n",
              "      fill: #D2E3FC;\n",
              "    }\n",
              "\n",
              "    [theme=dark] .colab-df-convert:hover {\n",
              "      background-color: #434B5C;\n",
              "      box-shadow: 0px 1px 3px 1px rgba(0, 0, 0, 0.15);\n",
              "      filter: drop-shadow(0px 1px 2px rgba(0, 0, 0, 0.3));\n",
              "      fill: #FFFFFF;\n",
              "    }\n",
              "  </style>\n",
              "\n",
              "    <script>\n",
              "      const buttonEl =\n",
              "        document.querySelector('#df-ee975690-2feb-4f42-a58c-2cf97c260153 button.colab-df-convert');\n",
              "      buttonEl.style.display =\n",
              "        google.colab.kernel.accessAllowed ? 'block' : 'none';\n",
              "\n",
              "      async function convertToInteractive(key) {\n",
              "        const element = document.querySelector('#df-ee975690-2feb-4f42-a58c-2cf97c260153');\n",
              "        const dataTable =\n",
              "          await google.colab.kernel.invokeFunction('convertToInteractive',\n",
              "                                                    [key], {});\n",
              "        if (!dataTable) return;\n",
              "\n",
              "        const docLinkHtml = 'Like what you see? Visit the ' +\n",
              "          '<a target=\"_blank\" href=https://colab.research.google.com/notebooks/data_table.ipynb>data table notebook</a>'\n",
              "          + ' to learn more about interactive tables.';\n",
              "        element.innerHTML = '';\n",
              "        dataTable['output_type'] = 'display_data';\n",
              "        await google.colab.output.renderOutput(dataTable, element);\n",
              "        const docLink = document.createElement('div');\n",
              "        docLink.innerHTML = docLinkHtml;\n",
              "        element.appendChild(docLink);\n",
              "      }\n",
              "    </script>\n",
              "  </div>\n",
              "\n",
              "\n",
              "    <div id=\"df-fdd1b3dc-3d1e-4bda-a93f-9044ae8d9e06\">\n",
              "      <button class=\"colab-df-quickchart\" onclick=\"quickchart('df-fdd1b3dc-3d1e-4bda-a93f-9044ae8d9e06')\"\n",
              "                title=\"Suggest charts\"\n",
              "                style=\"display:none;\">\n",
              "\n",
              "<svg xmlns=\"http://www.w3.org/2000/svg\" height=\"24px\"viewBox=\"0 0 24 24\"\n",
              "     width=\"24px\">\n",
              "    <g>\n",
              "        <path d=\"M19 3H5c-1.1 0-2 .9-2 2v14c0 1.1.9 2 2 2h14c1.1 0 2-.9 2-2V5c0-1.1-.9-2-2-2zM9 17H7v-7h2v7zm4 0h-2V7h2v10zm4 0h-2v-4h2v4z\"/>\n",
              "    </g>\n",
              "</svg>\n",
              "      </button>\n",
              "\n",
              "<style>\n",
              "  .colab-df-quickchart {\n",
              "      --bg-color: #E8F0FE;\n",
              "      --fill-color: #1967D2;\n",
              "      --hover-bg-color: #E2EBFA;\n",
              "      --hover-fill-color: #174EA6;\n",
              "      --disabled-fill-color: #AAA;\n",
              "      --disabled-bg-color: #DDD;\n",
              "  }\n",
              "\n",
              "  [theme=dark] .colab-df-quickchart {\n",
              "      --bg-color: #3B4455;\n",
              "      --fill-color: #D2E3FC;\n",
              "      --hover-bg-color: #434B5C;\n",
              "      --hover-fill-color: #FFFFFF;\n",
              "      --disabled-bg-color: #3B4455;\n",
              "      --disabled-fill-color: #666;\n",
              "  }\n",
              "\n",
              "  .colab-df-quickchart {\n",
              "    background-color: var(--bg-color);\n",
              "    border: none;\n",
              "    border-radius: 50%;\n",
              "    cursor: pointer;\n",
              "    display: none;\n",
              "    fill: var(--fill-color);\n",
              "    height: 32px;\n",
              "    padding: 0;\n",
              "    width: 32px;\n",
              "  }\n",
              "\n",
              "  .colab-df-quickchart:hover {\n",
              "    background-color: var(--hover-bg-color);\n",
              "    box-shadow: 0 1px 2px rgba(60, 64, 67, 0.3), 0 1px 3px 1px rgba(60, 64, 67, 0.15);\n",
              "    fill: var(--button-hover-fill-color);\n",
              "  }\n",
              "\n",
              "  .colab-df-quickchart-complete:disabled,\n",
              "  .colab-df-quickchart-complete:disabled:hover {\n",
              "    background-color: var(--disabled-bg-color);\n",
              "    fill: var(--disabled-fill-color);\n",
              "    box-shadow: none;\n",
              "  }\n",
              "\n",
              "  .colab-df-spinner {\n",
              "    border: 2px solid var(--fill-color);\n",
              "    border-color: transparent;\n",
              "    border-bottom-color: var(--fill-color);\n",
              "    animation:\n",
              "      spin 1s steps(1) infinite;\n",
              "  }\n",
              "\n",
              "  @keyframes spin {\n",
              "    0% {\n",
              "      border-color: transparent;\n",
              "      border-bottom-color: var(--fill-color);\n",
              "      border-left-color: var(--fill-color);\n",
              "    }\n",
              "    20% {\n",
              "      border-color: transparent;\n",
              "      border-left-color: var(--fill-color);\n",
              "      border-top-color: var(--fill-color);\n",
              "    }\n",
              "    30% {\n",
              "      border-color: transparent;\n",
              "      border-left-color: var(--fill-color);\n",
              "      border-top-color: var(--fill-color);\n",
              "      border-right-color: var(--fill-color);\n",
              "    }\n",
              "    40% {\n",
              "      border-color: transparent;\n",
              "      border-right-color: var(--fill-color);\n",
              "      border-top-color: var(--fill-color);\n",
              "    }\n",
              "    60% {\n",
              "      border-color: transparent;\n",
              "      border-right-color: var(--fill-color);\n",
              "    }\n",
              "    80% {\n",
              "      border-color: transparent;\n",
              "      border-right-color: var(--fill-color);\n",
              "      border-bottom-color: var(--fill-color);\n",
              "    }\n",
              "    90% {\n",
              "      border-color: transparent;\n",
              "      border-bottom-color: var(--fill-color);\n",
              "    }\n",
              "  }\n",
              "</style>\n",
              "\n",
              "      <script>\n",
              "        async function quickchart(key) {\n",
              "          const quickchartButtonEl =\n",
              "            document.querySelector('#' + key + ' button');\n",
              "          quickchartButtonEl.disabled = true;  // To prevent multiple clicks.\n",
              "          quickchartButtonEl.classList.add('colab-df-spinner');\n",
              "          try {\n",
              "            const charts = await google.colab.kernel.invokeFunction(\n",
              "                'suggestCharts', [key], {});\n",
              "          } catch (error) {\n",
              "            console.error('Error during call to suggestCharts:', error);\n",
              "          }\n",
              "          quickchartButtonEl.classList.remove('colab-df-spinner');\n",
              "          quickchartButtonEl.classList.add('colab-df-quickchart-complete');\n",
              "        }\n",
              "        (() => {\n",
              "          let quickchartButtonEl =\n",
              "            document.querySelector('#df-fdd1b3dc-3d1e-4bda-a93f-9044ae8d9e06 button');\n",
              "          quickchartButtonEl.style.display =\n",
              "            google.colab.kernel.accessAllowed ? 'block' : 'none';\n",
              "        })();\n",
              "      </script>\n",
              "    </div>\n",
              "\n",
              "    </div>\n",
              "  </div>\n"
            ],
            "application/vnd.google.colaboratory.intrinsic+json": {
              "type": "dataframe",
              "variable_name": "onboarding",
              "summary": "{\n  \"name\": \"onboarding\",\n  \"rows\": 13500,\n  \"fields\": [\n    {\n      \"column\": \"Unnamed: 0.1\",\n      \"properties\": {\n        \"dtype\": \"number\",\n        \"std\": 3897,\n        \"min\": 0,\n        \"max\": 13499,\n        \"num_unique_values\": 13500,\n        \"samples\": [\n          1483,\n          12892,\n          1175\n        ],\n        \"semantic_type\": \"\",\n        \"description\": \"\"\n      }\n    },\n    {\n      \"column\": \"Unnamed: 0\",\n      \"properties\": {\n        \"dtype\": \"number\",\n        \"std\": 3319.9083822700086,\n        \"min\": 0.0,\n        \"max\": 11499.0,\n        \"num_unique_values\": 11500,\n        \"samples\": [\n          4932.0,\n          7288.0,\n          562.0\n        ],\n        \"semantic_type\": \"\",\n        \"description\": \"\"\n      }\n    },\n    {\n      \"column\": \"first_login_dt\",\n      \"properties\": {\n        \"dtype\": \"category\",\n        \"num_unique_values\": 62,\n        \"samples\": [\n          \"2022-01-16 00:00:00\",\n          \"2022-01-25 00:00:00\",\n          \"2022-01-03\"\n        ],\n        \"semantic_type\": \"\",\n        \"description\": \"\"\n      }\n    },\n    {\n      \"column\": \"week_year\",\n      \"properties\": {\n        \"dtype\": \"number\",\n        \"std\": 9,\n        \"min\": 1,\n        \"max\": 52,\n        \"num_unique_values\": 6,\n        \"samples\": [\n          1,\n          3,\n          52\n        ],\n        \"semantic_type\": \"\",\n        \"description\": \"\"\n      }\n    },\n    {\n      \"column\": \"user_id\",\n      \"properties\": {\n        \"dtype\": \"string\",\n        \"num_unique_values\": 13000,\n        \"samples\": [\n          \"MLB44465532340\",\n          \"MLB7338633900\",\n          \"MLB8289009480\"\n        ],\n        \"semantic_type\": \"\",\n        \"description\": \"\"\n      }\n    },\n    {\n      \"column\": \"habito\",\n      \"properties\": {\n        \"dtype\": \"number\",\n        \"std\": 0.32799696413925344,\n        \"min\": 0.0,\n        \"max\": 1.0,\n        \"num_unique_values\": 2,\n        \"samples\": [\n          1.0,\n          0.0\n        ],\n        \"semantic_type\": \"\",\n        \"description\": \"\"\n      }\n    },\n    {\n      \"column\": \"habito_dt\",\n      \"properties\": {\n        \"dtype\": \"category\",\n        \"num_unique_values\": 108,\n        \"samples\": [\n          \"2022-02-25 00:00:00\",\n          \"2022-01-31 00:00:00\"\n        ],\n        \"semantic_type\": \"\",\n        \"description\": \"\"\n      }\n    },\n    {\n      \"column\": \"activacion\",\n      \"properties\": {\n        \"dtype\": \"number\",\n        \"std\": 0,\n        \"min\": 0,\n        \"max\": 1,\n        \"num_unique_values\": 2,\n        \"samples\": [\n          1,\n          0\n        ],\n        \"semantic_type\": \"\",\n        \"description\": \"\"\n      }\n    },\n    {\n      \"column\": \"activacion_dt\",\n      \"properties\": {\n        \"dtype\": \"category\",\n        \"num_unique_values\": 113,\n        \"samples\": [\n          \"2022-01-28 00:00:00\",\n          \"2022-02-20\"\n        ],\n        \"semantic_type\": \"\",\n        \"description\": \"\"\n      }\n    },\n    {\n      \"column\": \"setup\",\n      \"properties\": {\n        \"dtype\": \"number\",\n        \"std\": 0,\n        \"min\": 0,\n        \"max\": 1,\n        \"num_unique_values\": 2,\n        \"samples\": [\n          1,\n          0\n        ],\n        \"semantic_type\": \"\",\n        \"description\": \"\"\n      }\n    },\n    {\n      \"column\": \"setup_dt\",\n      \"properties\": {\n        \"dtype\": \"category\",\n        \"num_unique_values\": 108,\n        \"samples\": [\n          \"2022-02-28\",\n          \"2022-01-27\"\n        ],\n        \"semantic_type\": \"\",\n        \"description\": \"\"\n      }\n    },\n    {\n      \"column\": \"return\",\n      \"properties\": {\n        \"dtype\": \"number\",\n        \"std\": 0,\n        \"min\": 0,\n        \"max\": 1,\n        \"num_unique_values\": 2,\n        \"samples\": [\n          1,\n          0\n        ],\n        \"semantic_type\": \"\",\n        \"description\": \"\"\n      }\n    },\n    {\n      \"column\": \"return_dt\",\n      \"properties\": {\n        \"dtype\": \"category\",\n        \"num_unique_values\": 111,\n        \"samples\": [\n          \"2022-01-01 00:00:00\",\n          \"2022-01-13\"\n        ],\n        \"semantic_type\": \"\",\n        \"description\": \"\"\n      }\n    }\n  ]\n}"
            }
          },
          "metadata": {},
          "execution_count": 9
        }
      ],
      "source": [
        "onboarding.head()"
      ]
    },
    {
      "cell_type": "code",
      "execution_count": null,
      "metadata": {
        "id": "QzrVpSq_NWQi",
        "colab": {
          "base_uri": "https://localhost:8080/",
          "height": 206
        },
        "outputId": "18ce42dc-40c6-4092-c189-945240b2d726"
      },
      "outputs": [
        {
          "output_type": "execute_result",
          "data": {
            "text/plain": [
              "   Unnamed: 0          user_id                 transaction_dt  type  segment\n",
              "0           0  MLB410542856680  2022-01-20 23:05:07.884739087     9        2\n",
              "1           1   MLB10610169410  2022-02-06 07:55:58.674812703     1        1\n",
              "2           2    MLB7813965430  2022-01-25 17:08:53.753615635     6        1\n",
              "3           3  MLB410646227340  2022-01-28 00:00:00.000000000     8        2\n",
              "4           4   MLB10664964390  2022-02-02 19:04:18.359600977     7        1"
            ],
            "text/html": [
              "\n",
              "  <div id=\"df-6c0c7aa9-ce25-4fa0-ba18-a17186f934be\" class=\"colab-df-container\">\n",
              "    <div>\n",
              "<style scoped>\n",
              "    .dataframe tbody tr th:only-of-type {\n",
              "        vertical-align: middle;\n",
              "    }\n",
              "\n",
              "    .dataframe tbody tr th {\n",
              "        vertical-align: top;\n",
              "    }\n",
              "\n",
              "    .dataframe thead th {\n",
              "        text-align: right;\n",
              "    }\n",
              "</style>\n",
              "<table border=\"1\" class=\"dataframe\">\n",
              "  <thead>\n",
              "    <tr style=\"text-align: right;\">\n",
              "      <th></th>\n",
              "      <th>Unnamed: 0</th>\n",
              "      <th>user_id</th>\n",
              "      <th>transaction_dt</th>\n",
              "      <th>type</th>\n",
              "      <th>segment</th>\n",
              "    </tr>\n",
              "  </thead>\n",
              "  <tbody>\n",
              "    <tr>\n",
              "      <th>0</th>\n",
              "      <td>0</td>\n",
              "      <td>MLB410542856680</td>\n",
              "      <td>2022-01-20 23:05:07.884739087</td>\n",
              "      <td>9</td>\n",
              "      <td>2</td>\n",
              "    </tr>\n",
              "    <tr>\n",
              "      <th>1</th>\n",
              "      <td>1</td>\n",
              "      <td>MLB10610169410</td>\n",
              "      <td>2022-02-06 07:55:58.674812703</td>\n",
              "      <td>1</td>\n",
              "      <td>1</td>\n",
              "    </tr>\n",
              "    <tr>\n",
              "      <th>2</th>\n",
              "      <td>2</td>\n",
              "      <td>MLB7813965430</td>\n",
              "      <td>2022-01-25 17:08:53.753615635</td>\n",
              "      <td>6</td>\n",
              "      <td>1</td>\n",
              "    </tr>\n",
              "    <tr>\n",
              "      <th>3</th>\n",
              "      <td>3</td>\n",
              "      <td>MLB410646227340</td>\n",
              "      <td>2022-01-28 00:00:00.000000000</td>\n",
              "      <td>8</td>\n",
              "      <td>2</td>\n",
              "    </tr>\n",
              "    <tr>\n",
              "      <th>4</th>\n",
              "      <td>4</td>\n",
              "      <td>MLB10664964390</td>\n",
              "      <td>2022-02-02 19:04:18.359600977</td>\n",
              "      <td>7</td>\n",
              "      <td>1</td>\n",
              "    </tr>\n",
              "  </tbody>\n",
              "</table>\n",
              "</div>\n",
              "    <div class=\"colab-df-buttons\">\n",
              "\n",
              "  <div class=\"colab-df-container\">\n",
              "    <button class=\"colab-df-convert\" onclick=\"convertToInteractive('df-6c0c7aa9-ce25-4fa0-ba18-a17186f934be')\"\n",
              "            title=\"Convert this dataframe to an interactive table.\"\n",
              "            style=\"display:none;\">\n",
              "\n",
              "  <svg xmlns=\"http://www.w3.org/2000/svg\" height=\"24px\" viewBox=\"0 -960 960 960\">\n",
              "    <path d=\"M120-120v-720h720v720H120Zm60-500h600v-160H180v160Zm220 220h160v-160H400v160Zm0 220h160v-160H400v160ZM180-400h160v-160H180v160Zm440 0h160v-160H620v160ZM180-180h160v-160H180v160Zm440 0h160v-160H620v160Z\"/>\n",
              "  </svg>\n",
              "    </button>\n",
              "\n",
              "  <style>\n",
              "    .colab-df-container {\n",
              "      display:flex;\n",
              "      gap: 12px;\n",
              "    }\n",
              "\n",
              "    .colab-df-convert {\n",
              "      background-color: #E8F0FE;\n",
              "      border: none;\n",
              "      border-radius: 50%;\n",
              "      cursor: pointer;\n",
              "      display: none;\n",
              "      fill: #1967D2;\n",
              "      height: 32px;\n",
              "      padding: 0 0 0 0;\n",
              "      width: 32px;\n",
              "    }\n",
              "\n",
              "    .colab-df-convert:hover {\n",
              "      background-color: #E2EBFA;\n",
              "      box-shadow: 0px 1px 2px rgba(60, 64, 67, 0.3), 0px 1px 3px 1px rgba(60, 64, 67, 0.15);\n",
              "      fill: #174EA6;\n",
              "    }\n",
              "\n",
              "    .colab-df-buttons div {\n",
              "      margin-bottom: 4px;\n",
              "    }\n",
              "\n",
              "    [theme=dark] .colab-df-convert {\n",
              "      background-color: #3B4455;\n",
              "      fill: #D2E3FC;\n",
              "    }\n",
              "\n",
              "    [theme=dark] .colab-df-convert:hover {\n",
              "      background-color: #434B5C;\n",
              "      box-shadow: 0px 1px 3px 1px rgba(0, 0, 0, 0.15);\n",
              "      filter: drop-shadow(0px 1px 2px rgba(0, 0, 0, 0.3));\n",
              "      fill: #FFFFFF;\n",
              "    }\n",
              "  </style>\n",
              "\n",
              "    <script>\n",
              "      const buttonEl =\n",
              "        document.querySelector('#df-6c0c7aa9-ce25-4fa0-ba18-a17186f934be button.colab-df-convert');\n",
              "      buttonEl.style.display =\n",
              "        google.colab.kernel.accessAllowed ? 'block' : 'none';\n",
              "\n",
              "      async function convertToInteractive(key) {\n",
              "        const element = document.querySelector('#df-6c0c7aa9-ce25-4fa0-ba18-a17186f934be');\n",
              "        const dataTable =\n",
              "          await google.colab.kernel.invokeFunction('convertToInteractive',\n",
              "                                                    [key], {});\n",
              "        if (!dataTable) return;\n",
              "\n",
              "        const docLinkHtml = 'Like what you see? Visit the ' +\n",
              "          '<a target=\"_blank\" href=https://colab.research.google.com/notebooks/data_table.ipynb>data table notebook</a>'\n",
              "          + ' to learn more about interactive tables.';\n",
              "        element.innerHTML = '';\n",
              "        dataTable['output_type'] = 'display_data';\n",
              "        await google.colab.output.renderOutput(dataTable, element);\n",
              "        const docLink = document.createElement('div');\n",
              "        docLink.innerHTML = docLinkHtml;\n",
              "        element.appendChild(docLink);\n",
              "      }\n",
              "    </script>\n",
              "  </div>\n",
              "\n",
              "\n",
              "    <div id=\"df-96153ce5-12f2-4867-b32d-2983ce0cb980\">\n",
              "      <button class=\"colab-df-quickchart\" onclick=\"quickchart('df-96153ce5-12f2-4867-b32d-2983ce0cb980')\"\n",
              "                title=\"Suggest charts\"\n",
              "                style=\"display:none;\">\n",
              "\n",
              "<svg xmlns=\"http://www.w3.org/2000/svg\" height=\"24px\"viewBox=\"0 0 24 24\"\n",
              "     width=\"24px\">\n",
              "    <g>\n",
              "        <path d=\"M19 3H5c-1.1 0-2 .9-2 2v14c0 1.1.9 2 2 2h14c1.1 0 2-.9 2-2V5c0-1.1-.9-2-2-2zM9 17H7v-7h2v7zm4 0h-2V7h2v10zm4 0h-2v-4h2v4z\"/>\n",
              "    </g>\n",
              "</svg>\n",
              "      </button>\n",
              "\n",
              "<style>\n",
              "  .colab-df-quickchart {\n",
              "      --bg-color: #E8F0FE;\n",
              "      --fill-color: #1967D2;\n",
              "      --hover-bg-color: #E2EBFA;\n",
              "      --hover-fill-color: #174EA6;\n",
              "      --disabled-fill-color: #AAA;\n",
              "      --disabled-bg-color: #DDD;\n",
              "  }\n",
              "\n",
              "  [theme=dark] .colab-df-quickchart {\n",
              "      --bg-color: #3B4455;\n",
              "      --fill-color: #D2E3FC;\n",
              "      --hover-bg-color: #434B5C;\n",
              "      --hover-fill-color: #FFFFFF;\n",
              "      --disabled-bg-color: #3B4455;\n",
              "      --disabled-fill-color: #666;\n",
              "  }\n",
              "\n",
              "  .colab-df-quickchart {\n",
              "    background-color: var(--bg-color);\n",
              "    border: none;\n",
              "    border-radius: 50%;\n",
              "    cursor: pointer;\n",
              "    display: none;\n",
              "    fill: var(--fill-color);\n",
              "    height: 32px;\n",
              "    padding: 0;\n",
              "    width: 32px;\n",
              "  }\n",
              "\n",
              "  .colab-df-quickchart:hover {\n",
              "    background-color: var(--hover-bg-color);\n",
              "    box-shadow: 0 1px 2px rgba(60, 64, 67, 0.3), 0 1px 3px 1px rgba(60, 64, 67, 0.15);\n",
              "    fill: var(--button-hover-fill-color);\n",
              "  }\n",
              "\n",
              "  .colab-df-quickchart-complete:disabled,\n",
              "  .colab-df-quickchart-complete:disabled:hover {\n",
              "    background-color: var(--disabled-bg-color);\n",
              "    fill: var(--disabled-fill-color);\n",
              "    box-shadow: none;\n",
              "  }\n",
              "\n",
              "  .colab-df-spinner {\n",
              "    border: 2px solid var(--fill-color);\n",
              "    border-color: transparent;\n",
              "    border-bottom-color: var(--fill-color);\n",
              "    animation:\n",
              "      spin 1s steps(1) infinite;\n",
              "  }\n",
              "\n",
              "  @keyframes spin {\n",
              "    0% {\n",
              "      border-color: transparent;\n",
              "      border-bottom-color: var(--fill-color);\n",
              "      border-left-color: var(--fill-color);\n",
              "    }\n",
              "    20% {\n",
              "      border-color: transparent;\n",
              "      border-left-color: var(--fill-color);\n",
              "      border-top-color: var(--fill-color);\n",
              "    }\n",
              "    30% {\n",
              "      border-color: transparent;\n",
              "      border-left-color: var(--fill-color);\n",
              "      border-top-color: var(--fill-color);\n",
              "      border-right-color: var(--fill-color);\n",
              "    }\n",
              "    40% {\n",
              "      border-color: transparent;\n",
              "      border-right-color: var(--fill-color);\n",
              "      border-top-color: var(--fill-color);\n",
              "    }\n",
              "    60% {\n",
              "      border-color: transparent;\n",
              "      border-right-color: var(--fill-color);\n",
              "    }\n",
              "    80% {\n",
              "      border-color: transparent;\n",
              "      border-right-color: var(--fill-color);\n",
              "      border-bottom-color: var(--fill-color);\n",
              "    }\n",
              "    90% {\n",
              "      border-color: transparent;\n",
              "      border-bottom-color: var(--fill-color);\n",
              "    }\n",
              "  }\n",
              "</style>\n",
              "\n",
              "      <script>\n",
              "        async function quickchart(key) {\n",
              "          const quickchartButtonEl =\n",
              "            document.querySelector('#' + key + ' button');\n",
              "          quickchartButtonEl.disabled = true;  // To prevent multiple clicks.\n",
              "          quickchartButtonEl.classList.add('colab-df-spinner');\n",
              "          try {\n",
              "            const charts = await google.colab.kernel.invokeFunction(\n",
              "                'suggestCharts', [key], {});\n",
              "          } catch (error) {\n",
              "            console.error('Error during call to suggestCharts:', error);\n",
              "          }\n",
              "          quickchartButtonEl.classList.remove('colab-df-spinner');\n",
              "          quickchartButtonEl.classList.add('colab-df-quickchart-complete');\n",
              "        }\n",
              "        (() => {\n",
              "          let quickchartButtonEl =\n",
              "            document.querySelector('#df-96153ce5-12f2-4867-b32d-2983ce0cb980 button');\n",
              "          quickchartButtonEl.style.display =\n",
              "            google.colab.kernel.accessAllowed ? 'block' : 'none';\n",
              "        })();\n",
              "      </script>\n",
              "    </div>\n",
              "\n",
              "    </div>\n",
              "  </div>\n"
            ],
            "application/vnd.google.colaboratory.intrinsic+json": {
              "type": "dataframe",
              "variable_name": "transactions",
              "summary": "{\n  \"name\": \"transactions\",\n  \"rows\": 7675,\n  \"fields\": [\n    {\n      \"column\": \"Unnamed: 0\",\n      \"properties\": {\n        \"dtype\": \"number\",\n        \"std\": 2215,\n        \"min\": 0,\n        \"max\": 7674,\n        \"num_unique_values\": 7675,\n        \"samples\": [\n          6458,\n          3333,\n          5729\n        ],\n        \"semantic_type\": \"\",\n        \"description\": \"\"\n      }\n    },\n    {\n      \"column\": \"user_id\",\n      \"properties\": {\n        \"dtype\": \"category\",\n        \"num_unique_values\": 1535,\n        \"samples\": [\n          \"MLB542616320\",\n          \"MLB779564990\",\n          \"MLB10608517650\"\n        ],\n        \"semantic_type\": \"\",\n        \"description\": \"\"\n      }\n    },\n    {\n      \"column\": \"transaction_dt\",\n      \"properties\": {\n        \"dtype\": \"object\",\n        \"num_unique_values\": 848,\n        \"samples\": [\n          \"2022-01-19 18:25:50.157605863\",\n          \"2022-01-21 22:04:35.394014658\",\n          \"2022-01-23 13:30:08.517206840\"\n        ],\n        \"semantic_type\": \"\",\n        \"description\": \"\"\n      }\n    },\n    {\n      \"column\": \"type\",\n      \"properties\": {\n        \"dtype\": \"number\",\n        \"std\": 2,\n        \"min\": 1,\n        \"max\": 9,\n        \"num_unique_values\": 9,\n        \"samples\": [\n          4,\n          1,\n          5\n        ],\n        \"semantic_type\": \"\",\n        \"description\": \"\"\n      }\n    },\n    {\n      \"column\": \"segment\",\n      \"properties\": {\n        \"dtype\": \"number\",\n        \"std\": 0,\n        \"min\": 1,\n        \"max\": 2,\n        \"num_unique_values\": 2,\n        \"samples\": [\n          1,\n          2\n        ],\n        \"semantic_type\": \"\",\n        \"description\": \"\"\n      }\n    }\n  ]\n}"
            }
          },
          "metadata": {},
          "execution_count": 10
        }
      ],
      "source": [
        "transactions.head()"
      ]
    },
    {
      "cell_type": "markdown",
      "source": [
        "### Carga datos en capa Landing"
      ],
      "metadata": {
        "id": "7OEsBXCVgQar"
      }
    },
    {
      "cell_type": "code",
      "execution_count": null,
      "metadata": {
        "id": "wB3zXXn4Nfqh",
        "colab": {
          "base_uri": "https://localhost:8080/"
        },
        "outputId": "b5c31ab7-9296-484a-c6d5-86cec2d93be0"
      },
      "outputs": [
        {
          "output_type": "stream",
          "name": "stdout",
          "text": [
            "Colección users fue correctamente poblada...!\n"
          ]
        }
      ],
      "source": [
        "# Se carga la tabla users en capa Landing\n",
        "\n",
        "users['type'] = users['type'].replace({np.nan: None})\n",
        "users['rubro'] = users['rubro'].replace({np.nan: None})\n",
        "\n",
        "users = users.drop(columns=['Unnamed: 0'])\n",
        "\n",
        "insertar(users, 'users', 'Landing')"
      ]
    },
    {
      "cell_type": "code",
      "execution_count": null,
      "metadata": {
        "id": "imUouO_LNlsN",
        "colab": {
          "base_uri": "https://localhost:8080/"
        },
        "outputId": "3dd534c7-9ce3-4168-d5c8-9fd8799a2e40"
      },
      "outputs": [
        {
          "output_type": "stream",
          "name": "stdout",
          "text": [
            "Colección onboarding fue correctamente poblada...!\n"
          ]
        }
      ],
      "source": [
        "# Se carga la tabla onboarding en capa Landing\n",
        "\n",
        "onboarding = onboarding.drop(columns=['Unnamed: 0.1'])\n",
        "\n",
        "onboarding = onboarding.replace({np.nan: None})\n",
        "\n",
        "date_cols = ['first_login_dt', 'habito_dt', 'activacion_dt', 'setup_dt', 'return_dt']\n",
        "for col in date_cols:\n",
        "    onboarding[col] = onboarding[col].astype(str).replace('NaT', 'None')\n",
        "\n",
        "insertar(onboarding, 'onboarding', 'Landing')"
      ]
    },
    {
      "cell_type": "code",
      "execution_count": null,
      "metadata": {
        "id": "C9yUqkzBOjOX",
        "colab": {
          "base_uri": "https://localhost:8080/"
        },
        "outputId": "93013674-ae11-4674-80db-ad83aa918725"
      },
      "outputs": [
        {
          "output_type": "stream",
          "name": "stdout",
          "text": [
            "Colección transactions fue correctamente poblada...!\n"
          ]
        }
      ],
      "source": [
        "# Se carga la tabla transactions en capa Landing\n",
        "\n",
        "transactions = transactions.drop(columns=['Unnamed: 0'])\n",
        "\n",
        "for col in transactions.columns:\n",
        "    if transactions[col].dtype == 'int':\n",
        "        transactions[col] = transactions[col].replace({np.nan: None})\n",
        "\n",
        "transactions['transaction_dt'] = transactions['transaction_dt'].astype(str)\n",
        "\n",
        "insertar(transactions, 'transactions', 'Landing')"
      ]
    },
    {
      "cell_type": "markdown",
      "metadata": {
        "id": "pfRXwdDlD9Yt"
      },
      "source": [
        "### Descarga desde Astra capa Landing"
      ]
    },
    {
      "cell_type": "code",
      "execution_count": null,
      "metadata": {
        "id": "pN7GQIPERNS-"
      },
      "outputs": [],
      "source": [
        "# Se inicializa la sesion de Spark, herramienta que utlizaremos para transformación y manipulación de los datos\n",
        "spark = SparkSession.builder \\\n",
        "        .appName(\"Proyecto Mineria de datos II\") \\\n",
        "        .config(\"spark.sql.catalogImplementation\", \"hive\") \\\n",
        "        .enableHiveSupport() \\\n",
        "        .getOrCreate()"
      ]
    },
    {
      "cell_type": "code",
      "execution_count": null,
      "metadata": {
        "colab": {
          "base_uri": "https://localhost:8080/"
        },
        "id": "e2IsOGNfRcon",
        "outputId": "ddf6eebb-6e35-46c0-b315-0cd78f41fcad"
      },
      "outputs": [
        {
          "output_type": "execute_result",
          "data": {
            "text/plain": [
              "Collection(name=\"users\", keyspace=\"Landing\", database.api_endpoint=\"https://4d0012cb-974a-4358-8adc-9674bb16b79d-us-east-2.apps.astra.datastax.com\", api_options=FullAPIOptions(token=StaticTokenProvider(AstraCS:ZuQC...), ...))"
            ]
          },
          "metadata": {},
          "execution_count": 15
        }
      ],
      "source": [
        "# Se obtiene la colección users desde la BD\n",
        "users = db.get_collection('users', keyspace='Landing')\n",
        "users"
      ]
    },
    {
      "cell_type": "code",
      "execution_count": null,
      "metadata": {
        "colab": {
          "base_uri": "https://localhost:8080/"
        },
        "id": "uc90eRpiRpxL",
        "outputId": "45aa01b0-42fc-4542-e105-6d129dc1517f"
      },
      "outputs": [
        {
          "output_type": "execute_result",
          "data": {
            "text/plain": [
              "Collection(name=\"onboarding\", keyspace=\"Landing\", database.api_endpoint=\"https://4d0012cb-974a-4358-8adc-9674bb16b79d-us-east-2.apps.astra.datastax.com\", api_options=FullAPIOptions(token=StaticTokenProvider(AstraCS:ZuQC...), ...))"
            ]
          },
          "metadata": {},
          "execution_count": 16
        }
      ],
      "source": [
        "# Se obtiene la colección onboarding desde la BD\n",
        "onboarding = db.get_collection('onboarding', keyspace='Landing')\n",
        "onboarding"
      ]
    },
    {
      "cell_type": "code",
      "execution_count": null,
      "metadata": {
        "colab": {
          "base_uri": "https://localhost:8080/"
        },
        "id": "0a3EJyzFRu3k",
        "outputId": "08a2e949-5494-4cc8-ec4d-1ea71364651d"
      },
      "outputs": [
        {
          "output_type": "execute_result",
          "data": {
            "text/plain": [
              "Collection(name=\"transactions\", keyspace=\"Landing\", database.api_endpoint=\"https://4d0012cb-974a-4358-8adc-9674bb16b79d-us-east-2.apps.astra.datastax.com\", api_options=FullAPIOptions(token=StaticTokenProvider(AstraCS:ZuQC...), ...))"
            ]
          },
          "metadata": {},
          "execution_count": 17
        }
      ],
      "source": [
        "# Se obtiene la colección transactions desde la BD\n",
        "transactions = db.get_collection('transactions', keyspace='Landing')\n",
        "transactions"
      ]
    },
    {
      "cell_type": "code",
      "execution_count": null,
      "metadata": {
        "id": "37Jby76k-kpr"
      },
      "outputs": [],
      "source": [
        "# Se define el esquema de users\n",
        "schema_users = StructType([\n",
        "    StructField(\"user_id\", StringType()),\n",
        "    StructField(\"name\", StringType()),\n",
        "    StructField(\"email\", StringType()),\n",
        "    StructField(\"address\", StringType()),\n",
        "    StructField(\"birth_dt\", DateType()),\n",
        "    StructField(\"phone\", StringType()),\n",
        "    StructField(\"type\", FloatType()),\n",
        "    StructField(\"rubro\", StringType())\n",
        "])"
      ]
    },
    {
      "cell_type": "code",
      "execution_count": null,
      "metadata": {
        "id": "azsSTVRhDlir"
      },
      "outputs": [],
      "source": [
        "# Se define el esquema de onboarding\n",
        "schema_onboarding = StructType([\n",
        "    StructField(\"Unnamed: 0\", StringType()),\n",
        "    StructField(\"first_login_dt\", StringType()),\n",
        "    StructField(\"week_year\", IntegerType()),\n",
        "    StructField(\"user_id\", StringType()),\n",
        "    StructField(\"habito\", FloatType()),\n",
        "    StructField(\"habito_dt\", StringType()),\n",
        "    StructField(\"activacion\", IntegerType()),\n",
        "    StructField(\"activacion_dt\", StringType()),\n",
        "    StructField(\"setup\", IntegerType()),\n",
        "    StructField(\"setup_dt\", StringType()),\n",
        "    StructField(\"return\", IntegerType()),\n",
        "    StructField(\"return_dt\", StringType())\n",
        "])"
      ]
    },
    {
      "cell_type": "code",
      "execution_count": null,
      "metadata": {
        "id": "lC56sYXvFvEx"
      },
      "outputs": [],
      "source": [
        "# Se define el esquema de transactions\n",
        "schema_transactions = StructType([\n",
        "    StructField(\"user_id\", StringType()),\n",
        "    StructField(\"transaction_dt\", StringType()),\n",
        "    StructField(\"type\", IntegerType()),\n",
        "    StructField(\"segment\", IntegerType())\n",
        "])"
      ]
    },
    {
      "cell_type": "code",
      "execution_count": null,
      "metadata": {
        "id": "hOCPmLVhGcvM"
      },
      "outputs": [],
      "source": [
        "# Se recorre los documentos de users y con cada registro se crea una lista de tuplas\n",
        "reg_users = [\n",
        "    (\n",
        "        str(doc.get(\"user_id\", \"\")),\n",
        "        str(doc.get(\"name\", \"\")),\n",
        "        str(doc.get(\"email\", \"\")),\n",
        "        str(doc.get(\"address\", \"\")),\n",
        "        datetime.strptime(doc.get(\"birth_dt\", \"\"), \"%Y-%m-%d\").date() if doc.get(\"birth_dt\") else None,\n",
        "        str(doc.get(\"phone\", \"\")),\n",
        "        float(doc.get(\"type\", None)) if doc.get(\"type\") is not None else None,\n",
        "        str(doc.get(\"rubro\", \"\"))\n",
        "    )\n",
        "    for doc in users.find()\n",
        "]"
      ]
    },
    {
      "cell_type": "code",
      "execution_count": null,
      "metadata": {
        "id": "K8ksuyv3Gjss"
      },
      "outputs": [],
      "source": [
        "# Se recorre los documentos de onboarding y con cada registro se crea una lista de tuplas\n",
        "reg_onboarding = [\n",
        "    (\n",
        "        str(doc.get(\"Unnamed: 0\", \"\")),\n",
        "        str(doc.get(\"first_login_dt\", \"\")),\n",
        "        int(doc.get(\"week_year\", 0)),\n",
        "        str(doc.get(\"user_id\", \"\")),\n",
        "        float(doc.get(\"habito\", None)) if doc.get(\"habito\") is not None else None,\n",
        "        str(doc.get(\"habito_dt\", \"\")),\n",
        "        int(doc.get(\"activacion\", 0)),\n",
        "        str(doc.get(\"activacion_dt\", \"\")),\n",
        "        int(doc.get(\"setup\", 0)),\n",
        "        str(doc.get(\"setup_dt\", \"\")),\n",
        "        int(doc.get(\"return\", 0)),\n",
        "        str(doc.get(\"return_dt\", \"\"))\n",
        "    )\n",
        "    for doc in onboarding.find()\n",
        "]"
      ]
    },
    {
      "cell_type": "code",
      "execution_count": null,
      "metadata": {
        "id": "zvEs7-YUJ1w1"
      },
      "outputs": [],
      "source": [
        "# Se recorre los documentos de transactions y con cada registro se crea una lista de tuplas\n",
        "reg_transactions = [\n",
        "    (\n",
        "        str(doc.get(\"user_id\", \"\")),\n",
        "        str(doc.get(\"transaction_dt\", \"\")),\n",
        "        int(doc.get(\"type\", 0)),\n",
        "        int(doc.get(\"segment\", 0)),\n",
        "        )\n",
        "    for doc in transactions.find()\n",
        "]"
      ]
    },
    {
      "cell_type": "code",
      "execution_count": null,
      "metadata": {
        "id": "uZE1Vh9-KUg2"
      },
      "outputs": [],
      "source": [
        "# Se crea el df de spark para users\n",
        "users_df = spark.createDataFrame(reg_users, schema_users)"
      ]
    },
    {
      "cell_type": "code",
      "execution_count": null,
      "metadata": {
        "id": "7nJFvTjxLAuz"
      },
      "outputs": [],
      "source": [
        "# Se crea el df de spark para onboarding\n",
        "onboarding_df = spark.createDataFrame(reg_onboarding, schema_onboarding)"
      ]
    },
    {
      "cell_type": "code",
      "execution_count": null,
      "metadata": {
        "id": "HLq9uNHCLX8j"
      },
      "outputs": [],
      "source": [
        "# Se crea el df de spark para transactions\n",
        "transactions_df = spark.createDataFrame(reg_transactions, schema_transactions)"
      ]
    },
    {
      "cell_type": "markdown",
      "source": [
        "### Limpieza y transformación de datos"
      ],
      "metadata": {
        "id": "xF08FBd6iKHa"
      }
    },
    {
      "cell_type": "code",
      "execution_count": null,
      "metadata": {
        "id": "a6EQQRGrMdGL"
      },
      "outputs": [],
      "source": [
        "# Se eliminan columnas innecesarias de users\n",
        "users_df = users_df.drop('name', 'email', 'address', 'birth_dt', 'phone', 'type')"
      ]
    },
    {
      "cell_type": "code",
      "execution_count": null,
      "metadata": {
        "id": "rMhhf44YM2Zu"
      },
      "outputs": [],
      "source": [
        "# Se eliminan columnas innecesarias de onboarding\n",
        "onboarding_df = onboarding_df.drop('Unnamed: 0', 'return_dt')"
      ]
    },
    {
      "cell_type": "code",
      "execution_count": null,
      "metadata": {
        "colab": {
          "base_uri": "https://localhost:8080/"
        },
        "id": "jJcRc1oWMzUj",
        "outputId": "b3e2867e-6cce-45c6-d4d5-a2564ffb15d9"
      },
      "outputs": [
        {
          "output_type": "stream",
          "name": "stdout",
          "text": [
            "+---------------+-----+\n",
            "|        user_id|rubro|\n",
            "+---------------+-----+\n",
            "|  MLB7383247150| None|\n",
            "|  MLB6042969380| None|\n",
            "| MLB10648640630| None|\n",
            "|  MLB4854341820| None|\n",
            "| MLB10611434700| None|\n",
            "|  MLB1330275630| None|\n",
            "|MLB4843136640-1| None|\n",
            "|  MLB7912215780| None|\n",
            "| MLB10546093560| None|\n",
            "|MLB8218727920-1| None|\n",
            "| MLB10546394350| None|\n",
            "|  MLB1270429620| None|\n",
            "|  MLB2843378020| None|\n",
            "|  MLB7709809260| None|\n",
            "| MLB10501603390| None|\n",
            "|  MLB3376605710| None|\n",
            "| MLB10542704690| None|\n",
            "| MLB42261029540|    5|\n",
            "| MLB10594263420| None|\n",
            "| MLB10505782870| None|\n",
            "+---------------+-----+\n",
            "only showing top 20 rows\n",
            "\n"
          ]
        }
      ],
      "source": [
        "users_df.show()"
      ]
    },
    {
      "cell_type": "code",
      "execution_count": null,
      "metadata": {
        "colab": {
          "base_uri": "https://localhost:8080/"
        },
        "id": "eWao_SOMRZnC",
        "outputId": "9eeb5788-b62d-4324-b53b-a5b00936fdf8"
      },
      "outputs": [
        {
          "output_type": "stream",
          "name": "stdout",
          "text": [
            "+----------------+-----+\n",
            "|         user_id|rubro|\n",
            "+----------------+-----+\n",
            "|    MLB307947990|    0|\n",
            "|  MLB43711440690|    7|\n",
            "| MLB1465538830-1|    0|\n",
            "| MLB3144375440-1|    0|\n",
            "|   MLB4467229230|    0|\n",
            "|  MLB10546351270|    0|\n",
            "|  MLB10004759110|    0|\n",
            "|MLB10642449350-1|    0|\n",
            "|   MLB2743543900|    0|\n",
            "|   MLB1576067360|    0|\n",
            "|    MLB311099390|    0|\n",
            "|   MLB4125428140|    0|\n",
            "|   MLB2081112380|    0|\n",
            "|   MLB6767805510|    0|\n",
            "|   MLB3802172970|    0|\n",
            "|  MLB10289924710|    0|\n",
            "|    MLB832900320|    0|\n",
            "|   MLB4215323460|    0|\n",
            "|   MLB1931306250|    0|\n",
            "| MLB410642554250|    1|\n",
            "+----------------+-----+\n",
            "only showing top 20 rows\n",
            "\n"
          ]
        }
      ],
      "source": [
        "# Se remplazan None por 0 en la columna rubro y se la transforma a int\n",
        "users_df = users_df.replace({'None': '0'}, subset=['rubro'])\n",
        "users_df = users_df.withColumn('rubro', users_df['rubro'].cast(IntegerType()))\n",
        "\n",
        "# Se eliminan duplicados si los hubiera\n",
        "users_df = users_df.dropDuplicates(['user_id', 'rubro'])\n",
        "\n",
        "users_df.show()\n"
      ]
    },
    {
      "cell_type": "code",
      "execution_count": null,
      "metadata": {
        "colab": {
          "base_uri": "https://localhost:8080/"
        },
        "id": "6Ttpei11ABzA",
        "outputId": "c71ab444-d086-46e0-e04f-66d29b58d4c6"
      },
      "outputs": [
        {
          "output_type": "stream",
          "name": "stdout",
          "text": [
            "+-------+-----+\n",
            "|user_id|rubro|\n",
            "+-------+-----+\n",
            "+-------+-----+\n",
            "\n"
          ]
        }
      ],
      "source": [
        "# Se checkea que no haya ids nulos\n",
        "users_df.filter(\"user_id is NULL\").show()"
      ]
    },
    {
      "cell_type": "code",
      "execution_count": null,
      "metadata": {
        "colab": {
          "base_uri": "https://localhost:8080/"
        },
        "id": "37_8GOGkQvqT",
        "outputId": "4e58d6c4-826c-4a3b-d5a7-9862eae5d01e"
      },
      "outputs": [
        {
          "output_type": "stream",
          "name": "stdout",
          "text": [
            "+-------------------+---------+----------------+------+----------+----------+-------------------+-----+-------------------+------+\n",
            "|     first_login_dt|week_year|         user_id|habito| habito_dt|activacion|      activacion_dt|setup|           setup_dt|return|\n",
            "+-------------------+---------+----------------+------+----------+----------+-------------------+-----+-------------------+------+\n",
            "|         2022-01-28|        4|  MLB41927705020|   0.0|      None|         0|               None|    0|               None|     0|\n",
            "|         2022-01-12|        2|  MLB45561165510|   0.0|      None|         0|               None|    0|               None|     0|\n",
            "|         2022-01-04|        1|  MLB10510053700|   1.0|2022-01-24|         1|         2022-01-04|    1|         2022-01-04|     1|\n",
            "|         2022-01-09|        1|    MLB759679770|   0.0|      None|         0|               None|    0|               None|     0|\n",
            "|         2022-01-13|        2| MLB410562268630|   0.0|      None|         0|               None|    0|               None|     1|\n",
            "|         2022-01-07|        1|  MLB10524506980|   0.0|      None|         0|               None|    0|               None|     1|\n",
            "|         2022-01-14|        2|   MLB2129055900|   0.0|      None|         1|         2022-02-01|    1|         2022-01-14|     1|\n",
            "|         2022-01-29|        4|  MLB10651099090|   0.0|      None|         1|         2022-02-01|    1|         2022-01-29|     1|\n",
            "|         2022-01-07|        1|   MLB6248345900|   0.0|      None|         1|         2022-01-07|    0|               None|     0|\n",
            "|         2022-01-21|        3|   MLB5863816940|   0.0|      None|         1|         2022-02-14|    0|               None|     1|\n",
            "|         2022-01-02|       52|  MLB10497689740|   0.0|      None|         1|         2022-01-02|    1|         2022-01-02|     1|\n",
            "|2022-01-05 00:00:00|        1|MLB10516053950-1|   0.0|      None|         1|2022-01-06 00:00:00|    1|2022-01-05 00:00:00|     1|\n",
            "|         2022-01-11|        2|   MLB7461769000|   0.0|      None|         1|         2022-01-11|    1|         2022-02-03|     1|\n",
            "|         2022-01-29|        4|  MLB10648986420|   0.0|      None|         1|         2022-01-30|    1|         2022-01-30|     1|\n",
            "|2022-01-26 00:00:00|        4|  MLB448664440-1|  NULL|      None|         1|2022-01-26 00:00:00|    0|               None|     1|\n",
            "|         2022-01-21|        3|  MLB10610558900|   0.0|      None|         1|         2022-01-21|    0|               None|     1|\n",
            "|2022-01-31 00:00:00|        5|  MLB311099390-1|   0.0|      None|         1|2022-02-04 00:00:00|    1|2022-01-31 00:00:00|     1|\n",
            "|         2022-01-31|        5|   MLB3156713530|   0.0|      None|         0|               None|    0|               None|     0|\n",
            "|         2022-01-26|        4|   MLB1554310690|   0.0|      None|         0|               None|    0|               None|     1|\n",
            "|         2022-01-06|        1|   MLB7490462220|   0.0|      None|         1|         2022-01-07|    0|               None|     1|\n",
            "+-------------------+---------+----------------+------+----------+----------+-------------------+-----+-------------------+------+\n",
            "only showing top 20 rows\n",
            "\n"
          ]
        }
      ],
      "source": [
        "onboarding_df.show()"
      ]
    },
    {
      "cell_type": "code",
      "execution_count": null,
      "metadata": {
        "colab": {
          "base_uri": "https://localhost:8080/"
        },
        "id": "WLGrLLQqWDv1",
        "outputId": "8b96dc6c-57dc-4f18-f29a-84ddca2f6e82"
      },
      "outputs": [
        {
          "output_type": "stream",
          "name": "stdout",
          "text": [
            "+--------------+---------+---------------+------+----------+----------+-------------+-----+----------+------+\n",
            "|first_login_dt|week_year|        user_id|habito| habito_dt|activacion|activacion_dt|setup|  setup_dt|return|\n",
            "+--------------+---------+---------------+------+----------+----------+-------------+-----+----------+------+\n",
            "|    2022-01-24|        4|  MLB6441174910|     1|2022-02-14|         1|   2022-01-19|    1|2022-01-28|     1|\n",
            "|    2022-01-06|        1| MLB10523352060|     1|2022-01-19|         1|   2022-01-06|    1|2022-01-06|     1|\n",
            "|    2022-01-14|        2| MLB10570013550|     1|2022-01-15|         1|   2022-01-14|    1|2022-01-17|     1|\n",
            "|    2022-01-15|        2|  MLB3999980600|     1|2022-01-17|         1|   2022-01-16|    1|2022-01-15|     1|\n",
            "|    2022-01-27|        4|MLB410635680280|     1|2022-02-10|         1|   2022-01-28|    1|2022-01-28|     1|\n",
            "|    2022-01-17|        3|  MLB5418067050|     1|2022-01-30|         1|   2022-01-17|    1|2022-01-17|     1|\n",
            "|    2022-01-02|       52| MLB43651245910|     1|2022-01-07|         1|   2022-01-06|    1|2022-01-07|     1|\n",
            "|    2022-01-25|        4|MLB410630198100|     1|2022-02-03|         1|   2022-01-25|    1|2022-01-25|     1|\n",
            "|    2022-01-12|        2|  MLB2600561820|     1|2022-01-18|         1|   2022-01-03|    1|2022-01-13|     1|\n",
            "|    2022-01-20|        3| MLB42935061670|     1|2022-01-22|         1|   2022-01-20|    1|2022-01-20|     1|\n",
            "|    2022-01-20|        3|MLB410352333000|     1|2022-02-04|         1|   2022-01-21|    1|2022-01-20|     1|\n",
            "|    2022-01-09|        1|  MLB5133106490|     1|2022-01-13|         1|   2022-01-09|    1|2022-01-11|     1|\n",
            "|    2022-01-19|        3|  MLB2206169110|     1|2022-01-28|         1|   2022-01-13|    1|2022-01-19|     1|\n",
            "|    2022-01-02|       52|  MLB6965356690|     1|2022-01-02|         1|   2022-01-02|    1|2022-01-10|     1|\n",
            "|    2022-01-10|        2| MLB10543603080|     1|2022-01-27|         1|   2022-01-11|    1|2022-01-10|     1|\n",
            "|    2022-01-31|        5|  MLB7910436150|     1|2022-03-02|         1|   2022-02-12|    1|2022-02-02|     1|\n",
            "|    2022-01-21|        3| MLB10610948120|     1|2022-02-07|         1|   2022-01-22|    1|2022-01-29|     1|\n",
            "|    2022-01-05|        1| MLB10519151350|     1|2022-01-09|         1|   2022-01-05|    1|2022-01-05|     1|\n",
            "|    2022-01-13|        2| MLB10564392750|     1|2022-01-24|         1|   2022-01-19|    1|2022-01-14|     1|\n",
            "|    2022-01-27|        4| MLB10639901700|     1|2022-02-22|         1|   2022-01-28|    1|2022-01-28|     1|\n",
            "+--------------+---------+---------------+------+----------+----------+-------------+-----+----------+------+\n",
            "only showing top 20 rows\n",
            "\n"
          ]
        }
      ],
      "source": [
        "# Se rellena la columna habito con 0.0 y se transforman las columnas con fechas a tipo fecha (con esto se busca homogeneizar los formatos)\n",
        "onboarding_df = onboarding_df.fillna({\"habito\": 0.0})\n",
        "onboarding_df = onboarding_df.withColumn('first_login_dt', onboarding_df['first_login_dt'].cast(DateType()))\n",
        "onboarding_df = onboarding_df.withColumn('habito_dt', onboarding_df['habito_dt'].cast(DateType()))\n",
        "onboarding_df = onboarding_df.withColumn('activacion_dt', onboarding_df['activacion_dt'].cast(DateType()))\n",
        "onboarding_df = onboarding_df.withColumn('setup_dt', onboarding_df['setup_dt'].cast(DateType()))\n",
        "onboarding_df = onboarding_df.withColumn('habito', onboarding_df['habito'].cast(IntegerType()))\n",
        "\n",
        "# Las columnas de fecha se las vuelve a transformar a str que son mas facilmente manejables por la BD\n",
        "onboarding_df = onboarding_df.withColumn('first_login_dt', onboarding_df['first_login_dt'].cast(StringType()))\n",
        "onboarding_df = onboarding_df.withColumn('habito_dt', onboarding_df['habito_dt'].cast(StringType()))\n",
        "onboarding_df = onboarding_df.withColumn('activacion_dt', onboarding_df['activacion_dt'].cast(StringType()))\n",
        "onboarding_df = onboarding_df.withColumn('setup_dt', onboarding_df['setup_dt'].cast(StringType()))\n",
        "\n",
        "# Se eliminan los duplicados si los hubiera\n",
        "onboarding_df = onboarding_df.dropDuplicates()\n",
        "\n",
        "onboarding_df.show()"
      ]
    },
    {
      "cell_type": "code",
      "execution_count": null,
      "metadata": {
        "colab": {
          "base_uri": "https://localhost:8080/"
        },
        "id": "wUA0-dlRyUqp",
        "outputId": "0d142502-d9a5-4748-aa02-8098a072af82"
      },
      "outputs": [
        {
          "output_type": "stream",
          "name": "stdout",
          "text": [
            "+---------------+--------------+---------+------+----------+----------+-------------+-----+----------+------+\n",
            "|        user_id|first_login_dt|week_year|habito| habito_dt|activacion|activacion_dt|setup|  setup_dt|return|\n",
            "+---------------+--------------+---------+------+----------+----------+-------------+-----+----------+------+\n",
            "|  MLB4854341820|    2022-01-03|        1|     1|2022-01-18|         1|   2022-01-15|    1|2022-01-03|     1|\n",
            "|  MLB6493787800|    2022-01-29|        4|     1|2022-02-20|         1|   2022-02-16|    1|2022-02-01|     1|\n",
            "| MLB10564105150|    2022-01-14|        2|     1|2022-02-01|         1|   2022-01-30|    1|2022-01-14|     1|\n",
            "|  MLB2274734870|    2022-01-05|        1|     1|2022-01-28|         1|   2022-01-23|    1|2022-01-05|     1|\n",
            "|MLB410390720050|    2022-01-16|        2|     1|2022-01-16|         1|   2022-01-16|    1|2022-01-21|     1|\n",
            "| MLB10263203860|    2022-01-07|        1|     1|2022-01-23|         1|   2022-01-19|    1|2022-01-07|     1|\n",
            "|MLB410523151730|    2022-01-06|        1|     1|2022-01-22|         1|   2022-01-21|    1|2022-01-16|     1|\n",
            "|MLB410654234110|    2022-01-30|        4|     1|2022-02-06|         1|   2022-02-06|    1|2022-01-30|     1|\n",
            "|MLB410589300770|    2022-01-18|        3|     1|2022-02-13|         1|   2022-02-12|    1|2022-02-03|     1|\n",
            "|  MLB2077770500|    2022-01-13|        2|     1|2022-02-09|         1|   2022-02-04|    1|2022-01-29|     1|\n",
            "|  MLB7070718290|    2022-01-11|        2|     1|2022-01-13|         1|   2022-01-12|    1|2022-01-11|     1|\n",
            "| MLB10602296700|    2022-01-20|        3|     1|2022-01-25|         1|   2022-01-23|    1|2022-01-20|     1|\n",
            "| MLB10510053700|    2022-01-04|        1|     1|2022-01-24|         1|   2022-01-19|    1|2022-01-04|     1|\n",
            "| MLB10510676150|    2022-01-04|        1|     1|2022-01-26|         1|   2022-01-22|    1|2022-01-08|     1|\n",
            "| MLB10373046420|    2022-01-24|        4|     1|2022-02-18|         1|   2022-02-12|    1|2022-01-24|     1|\n",
            "|  MLB2698910180|    2022-01-27|        4|     1|2022-02-06|         1|   2022-02-03|    1|2022-02-01|     1|\n",
            "| MLB10657529160|    2022-01-30|        4|     1|2022-02-05|         1|   2022-02-03|    1|2022-01-30|     1|\n",
            "| MLB10592033580|    2022-01-18|        3|     1|2022-01-22|         1|   2022-01-21|    1|2022-02-02|     1|\n",
            "| MLB10545288920|    2022-01-10|        2|     1|2022-01-14|         1|   2022-01-13|    1|2022-01-10|     1|\n",
            "| MLB10619670770|    2022-01-23|        3|     1|2022-02-05|         1|   2022-02-02|    1|2022-01-23|     1|\n",
            "+---------------+--------------+---------+------+----------+----------+-------------+-----+----------+------+\n",
            "only showing top 20 rows\n",
            "\n"
          ]
        }
      ],
      "source": [
        "# Se realiza un left join con la tabla transactions\n",
        "onboarding_with_transactions = onboarding_df.join(transactions_df, \"user_id\", \"left\")\n",
        "\n",
        "# Se actualiza la columna activacion en funcion de si se encuentra o no una transaccion para ese cliente\n",
        "onboarding_df = onboarding_with_transactions.withColumn(\n",
        "    \"activacion\",\n",
        "    F.when(F.col(\"transaction_dt\").isNotNull(), 1).otherwise(0)\n",
        ")\n",
        "\n",
        "# Se actualiza la columna activacion_dt en funcion de si se encuentra o no una fecha de transaccion para ese cliente y luego se eliminan las columnas agregadas\n",
        "onboarding_df = onboarding_with_transactions.withColumn(\n",
        "    \"activacion_dt\",\n",
        "    F.when(F.col(\"transaction_dt\").isNull(), None).otherwise(F.col(\"transaction_dt\"))\n",
        ").drop(\"transaction_dt\", \"type\", \"segment\")\n",
        "\n",
        "# La columna activacion_dt se tranforma a fecha para homogeneizar formato, y luego a str para su carga\n",
        "onboarding_df = onboarding_df.withColumn('activacion_dt', onboarding_df['activacion_dt'].cast(DateType()))\n",
        "onboarding_df = onboarding_df.withColumn('activacion_dt', onboarding_df['activacion_dt'].cast(StringType()))\n",
        "\n",
        "# Se eliminan duplicados si los hubiera\n",
        "onboarding_df = onboarding_df.dropDuplicates()\n",
        "\n",
        "onboarding_df.show()"
      ]
    },
    {
      "cell_type": "code",
      "source": [
        "# Analizando el negocio, concluimos lo siguiente:\n",
        "#       si hay habito, debe haber activacion\n",
        "#       si hay activacion, debe haber setup\n",
        "#       si hay habito, debe haber return\n",
        "# Actualizamos las columnas segun ese criterio\n",
        "onboarding_df = onboarding_df.withColumn(\"activacion\", F.when(F.col(\"habito\") == 1, 1).otherwise(F.col(\"activacion\")))\n",
        "onboarding_df = onboarding_df.withColumn(\"setup\", F.when(F.col(\"activacion\") == 1, 1).otherwise(F.col(\"setup\")))\n",
        "onboarding_df = onboarding_df.withColumn(\"return\", F.when(F.col(\"habito\") == 1, 1).otherwise(F.col(\"return\")))\n",
        "\n",
        "# Se rellenan las columnas activacion, setup y return con 0, ya que en el paso anterior modificamos a 1 cuando correspondía segun el criterio aplicado\n",
        "onboarding_df = onboarding_df.fillna({\"activacion\": 0})\n",
        "onboarding_df = onboarding_df.fillna({\"setup\": 0})\n",
        "onboarding_df = onboarding_df.fillna({\"return\": 0})\n",
        "\n",
        "onboarding_df.show()"
      ],
      "metadata": {
        "colab": {
          "base_uri": "https://localhost:8080/"
        },
        "id": "lpGRjXBq1LPg",
        "outputId": "7ed6ce40-82a7-420d-9d99-1e3192f305df"
      },
      "execution_count": null,
      "outputs": [
        {
          "output_type": "stream",
          "name": "stdout",
          "text": [
            "+---------------+--------------+---------+------+----------+----------+-------------+-----+----------+------+\n",
            "|        user_id|first_login_dt|week_year|habito| habito_dt|activacion|activacion_dt|setup|  setup_dt|return|\n",
            "+---------------+--------------+---------+------+----------+----------+-------------+-----+----------+------+\n",
            "|  MLB4854341820|    2022-01-03|        1|     1|2022-01-18|         1|   2022-01-15|    1|2022-01-03|     1|\n",
            "|  MLB6493787800|    2022-01-29|        4|     1|2022-02-20|         1|   2022-02-16|    1|2022-02-01|     1|\n",
            "| MLB10564105150|    2022-01-14|        2|     1|2022-02-01|         1|   2022-01-30|    1|2022-01-14|     1|\n",
            "|  MLB2274734870|    2022-01-05|        1|     1|2022-01-28|         1|   2022-01-23|    1|2022-01-05|     1|\n",
            "|MLB410390720050|    2022-01-16|        2|     1|2022-01-16|         1|   2022-01-16|    1|2022-01-21|     1|\n",
            "| MLB10263203860|    2022-01-07|        1|     1|2022-01-23|         1|   2022-01-19|    1|2022-01-07|     1|\n",
            "|MLB410523151730|    2022-01-06|        1|     1|2022-01-22|         1|   2022-01-21|    1|2022-01-16|     1|\n",
            "|MLB410654234110|    2022-01-30|        4|     1|2022-02-06|         1|   2022-02-06|    1|2022-01-30|     1|\n",
            "|MLB410589300770|    2022-01-18|        3|     1|2022-02-13|         1|   2022-02-12|    1|2022-02-03|     1|\n",
            "|  MLB2077770500|    2022-01-13|        2|     1|2022-02-09|         1|   2022-02-04|    1|2022-01-29|     1|\n",
            "|  MLB7070718290|    2022-01-11|        2|     1|2022-01-13|         1|   2022-01-12|    1|2022-01-11|     1|\n",
            "| MLB10602296700|    2022-01-20|        3|     1|2022-01-25|         1|   2022-01-23|    1|2022-01-20|     1|\n",
            "| MLB10510053700|    2022-01-04|        1|     1|2022-01-24|         1|   2022-01-19|    1|2022-01-04|     1|\n",
            "| MLB10510676150|    2022-01-04|        1|     1|2022-01-26|         1|   2022-01-22|    1|2022-01-08|     1|\n",
            "| MLB10373046420|    2022-01-24|        4|     1|2022-02-18|         1|   2022-02-12|    1|2022-01-24|     1|\n",
            "|  MLB2698910180|    2022-01-27|        4|     1|2022-02-06|         1|   2022-02-03|    1|2022-02-01|     1|\n",
            "| MLB10657529160|    2022-01-30|        4|     1|2022-02-05|         1|   2022-02-03|    1|2022-01-30|     1|\n",
            "| MLB10592033580|    2022-01-18|        3|     1|2022-01-22|         1|   2022-01-21|    1|2022-02-02|     1|\n",
            "| MLB10545288920|    2022-01-10|        2|     1|2022-01-14|         1|   2022-01-13|    1|2022-01-10|     1|\n",
            "| MLB10619670770|    2022-01-23|        3|     1|2022-02-05|         1|   2022-02-02|    1|2022-01-23|     1|\n",
            "+---------------+--------------+---------+------+----------+----------+-------------+-----+----------+------+\n",
            "only showing top 20 rows\n",
            "\n"
          ]
        }
      ]
    },
    {
      "cell_type": "code",
      "execution_count": null,
      "metadata": {
        "colab": {
          "base_uri": "https://localhost:8080/"
        },
        "id": "i-IWsAsmAMqd",
        "outputId": "c6cd9898-eef8-4279-dce1-cc42cfac1b8d"
      },
      "outputs": [
        {
          "output_type": "stream",
          "name": "stdout",
          "text": [
            "+-------+--------------+---------+------+---------+----------+-------------+-----+--------+------+\n",
            "|user_id|first_login_dt|week_year|habito|habito_dt|activacion|activacion_dt|setup|setup_dt|return|\n",
            "+-------+--------------+---------+------+---------+----------+-------------+-----+--------+------+\n",
            "+-------+--------------+---------+------+---------+----------+-------------+-----+--------+------+\n",
            "\n"
          ]
        }
      ],
      "source": [
        "# Se checkean ids nulos\n",
        "onboarding_df.filter(\"user_id is NULL\").show()"
      ]
    },
    {
      "cell_type": "code",
      "execution_count": null,
      "metadata": {
        "colab": {
          "base_uri": "https://localhost:8080/"
        },
        "id": "711o6r_SQ0Fv",
        "outputId": "5640dbca-3fe5-4a35-b53d-1b0b53755e22"
      },
      "outputs": [
        {
          "output_type": "stream",
          "name": "stdout",
          "text": [
            "+---------------+--------------------+----+-------+\n",
            "|        user_id|      transaction_dt|type|segment|\n",
            "+---------------+--------------------+----+-------+\n",
            "|  MLB7579492460|2022-02-01 06:00:...|   6|      1|\n",
            "|  MLB2509208880|2022-02-02 19:04:...|   6|      1|\n",
            "| MLB10058048790|2022-01-28 03:00:...|   1|      1|\n",
            "| MLB10533683550|2022-01-13 04:17:...|   4|      1|\n",
            "|  MLB4004971550|2022-01-19 04:17:...|   3|      1|\n",
            "| MLB10495770230|2022-01-19 06:39:...|   5|      1|\n",
            "|  MLB3746295080|2022-02-04 09:00:...|   7|      1|\n",
            "|MLB410225567310|2022-01-30 18:58:...|   8|      2|\n",
            "| MLB10590429150|2022-01-23 13:30:...|   3|      1|\n",
            "|MLB410631445822|2022-02-10 18:03:...|   9|      2|\n",
            "|  MLB1524022700|2022-01-30 00:00:...|   4|      1|\n",
            "| MLB10523141070|2022-01-09 14:08:...|   3|      1|\n",
            "| MLB10542683560|2022-01-10 00:00:...|   2|      1|\n",
            "|  MLB3120760160|2022-02-04 22:04:...|   6|      1|\n",
            "| MLB10638958250|2022-02-17 10:56:...|   4|      1|\n",
            "|  MLB7846926710|2022-01-25 03:38:...|   4|      1|\n",
            "| MLB10542524060|2022-01-13 23:21:...|   1|      1|\n",
            "| MLB10604903980|2022-01-26 08:34:...|   2|      1|\n",
            "| MLB10660558660|2022-02-09 12:51:...|   5|      1|\n",
            "| MLB47156185610|2022-01-20 16:13:...|   8|      2|\n",
            "+---------------+--------------------+----+-------+\n",
            "only showing top 20 rows\n",
            "\n"
          ]
        }
      ],
      "source": [
        "transactions_df.show()"
      ]
    },
    {
      "cell_type": "code",
      "execution_count": null,
      "metadata": {
        "colab": {
          "base_uri": "https://localhost:8080/"
        },
        "id": "m49D-ZNscGNT",
        "outputId": "0d8042cf-a0c0-4c28-fea5-30e9ae23a3fd"
      },
      "outputs": [
        {
          "output_type": "stream",
          "name": "stdout",
          "text": [
            "+----------------+--------------------+----+-------+\n",
            "|         user_id|      transaction_dt|type|segment|\n",
            "+----------------+--------------------+----+-------+\n",
            "|   MLB5366135920|2022-01-23 23:21:...|   5|      1|\n",
            "|   MLB4735384670|2022-01-29 06:00:...|   6|      1|\n",
            "|  MLB10648848950|2022-02-14 02:21:...|   1|      1|\n",
            "|  MLB41739682480|2022-02-02 21:42:...|   8|      2|\n",
            "|   MLB2587363500|2022-01-31 03:00:...|   6|      1|\n",
            "|   MLB2159161160| 2022-01-27 00:00:00|   1|      1|\n",
            "|  MLB10640012380|2022-02-03 08:34:...|   7|      1|\n",
            "|  MLB10637519180|2022-01-27 19:04:...|   1|      1|\n",
            "|  MLB10626498740|2022-01-27 14:08:...|   5|      1|\n",
            "|  MLB10352333000|2022-02-01 03:00:...|   5|      1|\n",
            "|  MLB10640525210|2022-01-31 04:17:...|   5|      1|\n",
            "|MLB10634012110-1|2022-02-01 08:34:...|   1|      1|\n",
            "|  MLB10656547340|2022-02-09 23:21:...|   2|      1|\n",
            "|   MLB2026375510|2022-01-27 02:21:...|   4|      1|\n",
            "|   MLB2698910180|2022-02-03 17:47:...|   4|      1|\n",
            "|   MLB6441174910|2022-02-08 15:51:...|   6|      1|\n",
            "| MLB410619766900|2022-01-30 23:32:...|   9|      2|\n",
            "|  MLB10628716480|2022-01-26 14:08:...|   5|      1|\n",
            "|  MLB10614326890|2022-02-09 06:39:...|   4|      1|\n",
            "|  MLB10099922620|2022-01-24 23:21:...|   6|      1|\n",
            "+----------------+--------------------+----+-------+\n",
            "only showing top 20 rows\n",
            "\n"
          ]
        }
      ],
      "source": [
        "# Se eliminan duplicados si los hubiera\n",
        "transactions_df = transactions_df.dropDuplicates()\n",
        "\n",
        "# Se transforma la columna transaction_dt a TimeStamp para homogeneizar, y luego a str para su carga\n",
        "transactions_df = transactions_df.withColumn('transaction_dt', F.col('transaction_dt').cast(TimestampType()))\n",
        "transactions_df = transactions_df.withColumn('transaction_dt', transactions_df['transaction_dt'].cast(StringType()))\n",
        "\n",
        "transactions_df.show()"
      ]
    },
    {
      "cell_type": "code",
      "execution_count": null,
      "metadata": {
        "colab": {
          "base_uri": "https://localhost:8080/"
        },
        "id": "8tp9y9pi_sHE",
        "outputId": "33a47d21-a3c3-45a8-9d43-12c8a0878436"
      },
      "outputs": [
        {
          "output_type": "stream",
          "name": "stdout",
          "text": [
            "+-------+--------------+----+-------+\n",
            "|user_id|transaction_dt|type|segment|\n",
            "+-------+--------------+----+-------+\n",
            "+-------+--------------+----+-------+\n",
            "\n"
          ]
        }
      ],
      "source": [
        "# Se checkean ids nulos\n",
        "transactions_df.filter(\"user_id is NULL\").show()"
      ]
    },
    {
      "cell_type": "code",
      "execution_count": null,
      "metadata": {
        "colab": {
          "base_uri": "https://localhost:8080/"
        },
        "id": "wBfBhDsWd_fK",
        "outputId": "9ed32eed-85fd-4989-e6dd-a22bca050b4a"
      },
      "outputs": [
        {
          "output_type": "stream",
          "name": "stdout",
          "text": [
            "+---------------+--------------+----+-------+\n",
            "|        user_id|transaction_dt|type|segment|\n",
            "+---------------+--------------+----+-------+\n",
            "|MLB410554685650|          NULL|   8|      2|\n",
            "| MLB10554685650|          NULL|   7|      1|\n",
            "| MLB10554685650|          NULL|   4|      1|\n",
            "| MLB10554685650|          NULL|   6|      1|\n",
            "| MLB10661666960|          NULL|   7|      1|\n",
            "|MLB410554685650|          NULL|   9|      2|\n",
            "| MLB10660135740|          NULL|   2|      1|\n",
            "| MLB10661666960|          NULL|   1|      1|\n",
            "| MLB10660135740|          NULL|   5|      1|\n",
            "| MLB10661666960|          NULL|   4|      1|\n",
            "| MLB10554685650|          NULL|   5|      1|\n",
            "| MLB10554685650|          NULL|   2|      1|\n",
            "| MLB10660135740|          NULL|   3|      1|\n",
            "| MLB10661666960|          NULL|   2|      1|\n",
            "+---------------+--------------+----+-------+\n",
            "\n"
          ]
        }
      ],
      "source": [
        "# Se checkean transaction_dt nulas, encontrándose algunas\n",
        "transactions_df.filter(\"transaction_dt is NULL\").show()"
      ]
    },
    {
      "cell_type": "code",
      "execution_count": null,
      "metadata": {
        "id": "6_JUKHA4fKYY"
      },
      "outputs": [],
      "source": [
        "# Transacciones que no se sabe cuando fueron realizadas no nos aportan a nuestro analisis, por lo que se decide eliminarlas\n",
        "transactions_df = transactions_df.na.drop(subset=['transaction_dt'])"
      ]
    },
    {
      "cell_type": "code",
      "execution_count": null,
      "metadata": {
        "colab": {
          "base_uri": "https://localhost:8080/"
        },
        "id": "Vw5VYg7EAfa-",
        "outputId": "c584eb38-d149-4e65-b7e7-66509b92bf57"
      },
      "outputs": [
        {
          "output_type": "stream",
          "name": "stdout",
          "text": [
            "+-------+--------------+----+-------+\n",
            "|user_id|transaction_dt|type|segment|\n",
            "+-------+--------------+----+-------+\n",
            "+-------+--------------+----+-------+\n",
            "\n"
          ]
        }
      ],
      "source": [
        "# Se recheckean transaction_dt nulas\n",
        "transactions_df.filter(\"transaction_dt is NULL\").show()"
      ]
    },
    {
      "cell_type": "markdown",
      "metadata": {
        "id": "FDXUvJn7Alac"
      },
      "source": [
        "###  Subida a Astra capa Universal"
      ]
    },
    {
      "cell_type": "code",
      "execution_count": null,
      "metadata": {
        "colab": {
          "base_uri": "https://localhost:8080/"
        },
        "id": "eG6A1URtFwOt",
        "outputId": "ebd86d0c-6e48-4877-b419-92042d13e606"
      },
      "outputs": [
        {
          "output_type": "stream",
          "name": "stdout",
          "text": [
            "Colección users fue correctamente poblada...!\n"
          ]
        }
      ],
      "source": [
        "# Se carga la tabla users en capa Universal\n",
        "insertar(users_df.toPandas(), 'users', 'Universal')"
      ]
    },
    {
      "cell_type": "code",
      "execution_count": null,
      "metadata": {
        "colab": {
          "base_uri": "https://localhost:8080/"
        },
        "id": "P6_CGoz0BbX0",
        "outputId": "e5c5d3c0-5264-46c4-fea4-f1ae25e3af08"
      },
      "outputs": [
        {
          "output_type": "stream",
          "name": "stdout",
          "text": [
            "Colección onboarding fue correctamente poblada...!\n"
          ]
        }
      ],
      "source": [
        "# Se carga la tabla onboarding en capa Universal\n",
        "insertar(onboarding_df.toPandas(), 'onboarding', 'Universal')"
      ]
    },
    {
      "cell_type": "code",
      "execution_count": null,
      "metadata": {
        "colab": {
          "base_uri": "https://localhost:8080/"
        },
        "id": "ztUdmoSsBhcl",
        "outputId": "7f31af56-1d33-4b75-8eea-6e54c25229f5"
      },
      "outputs": [
        {
          "output_type": "stream",
          "name": "stdout",
          "text": [
            "Colección transactions fue correctamente poblada...!\n"
          ]
        }
      ],
      "source": [
        "# Se carga la tabla transactions en capa Universal\n",
        "insertar(transactions_df.toPandas(), 'transactions', 'Universal')"
      ]
    },
    {
      "cell_type": "markdown",
      "source": [
        "### Descarga desde capa Universal"
      ],
      "metadata": {
        "id": "WG3l_6ImOtsD"
      }
    },
    {
      "cell_type": "code",
      "source": [
        "# Se obtiene la colección users desde la BD\n",
        "users_univ = db.get_collection('users', keyspace='Universal')\n",
        "users_univ"
      ],
      "metadata": {
        "colab": {
          "base_uri": "https://localhost:8080/"
        },
        "id": "G69akV6aO1i5",
        "outputId": "ffb0d75f-7f58-4b8c-b518-03a7fa9ae040"
      },
      "execution_count": null,
      "outputs": [
        {
          "output_type": "execute_result",
          "data": {
            "text/plain": [
              "Collection(name=\"users\", keyspace=\"Universal\", database.api_endpoint=\"https://4d0012cb-974a-4358-8adc-9674bb16b79d-us-east-2.apps.astra.datastax.com\", api_options=FullAPIOptions(token=StaticTokenProvider(AstraCS:ZuQC...), ...))"
            ]
          },
          "metadata": {},
          "execution_count": 63
        }
      ]
    },
    {
      "cell_type": "code",
      "source": [
        "# Se obtiene la colección onboarding desde la BD\n",
        "onboardin_univ = db.get_collection('onboarding', keyspace='Universal')\n",
        "onboardin_univ"
      ],
      "metadata": {
        "colab": {
          "base_uri": "https://localhost:8080/"
        },
        "id": "G-UXeu-tO734",
        "outputId": "d7f7e4bf-2cba-4b21-8ad5-f58f07de5a48"
      },
      "execution_count": null,
      "outputs": [
        {
          "output_type": "execute_result",
          "data": {
            "text/plain": [
              "Collection(name=\"onboarding\", keyspace=\"Universal\", database.api_endpoint=\"https://4d0012cb-974a-4358-8adc-9674bb16b79d-us-east-2.apps.astra.datastax.com\", api_options=FullAPIOptions(token=StaticTokenProvider(AstraCS:ZuQC...), ...))"
            ]
          },
          "metadata": {},
          "execution_count": 64
        }
      ]
    },
    {
      "cell_type": "code",
      "source": [
        "# Se obtiene la colección transactions desde la BD\n",
        "transactions_univ = db.get_collection('transactions', keyspace='Universal')\n",
        "transactions_univ"
      ],
      "metadata": {
        "colab": {
          "base_uri": "https://localhost:8080/"
        },
        "id": "c8w8bCP3O_kd",
        "outputId": "00c6ecc4-8455-48b9-ce2b-84b7b7a3b595"
      },
      "execution_count": null,
      "outputs": [
        {
          "output_type": "execute_result",
          "data": {
            "text/plain": [
              "Collection(name=\"transactions\", keyspace=\"Universal\", database.api_endpoint=\"https://4d0012cb-974a-4358-8adc-9674bb16b79d-us-east-2.apps.astra.datastax.com\", api_options=FullAPIOptions(token=StaticTokenProvider(AstraCS:ZuQC...), ...))"
            ]
          },
          "metadata": {},
          "execution_count": 65
        }
      ]
    },
    {
      "cell_type": "code",
      "source": [
        "# Se define el esquema de users\n",
        "schema_users_univ = StructType([\n",
        "    StructField(\"user_id\", StringType()),\n",
        "    StructField(\"rubro\", IntegerType())\n",
        "])"
      ],
      "metadata": {
        "id": "0jMyfy1bQJLw"
      },
      "execution_count": null,
      "outputs": []
    },
    {
      "cell_type": "code",
      "source": [
        "# Se define el esquema de onboarding\n",
        "schema_onboarding_univ = StructType([\n",
        "    StructField(\"user_id\", StringType()),\n",
        "    StructField(\"first_login_dt\", StringType()),\n",
        "    StructField(\"week_year\", IntegerType()),\n",
        "    StructField(\"habito\", IntegerType()),\n",
        "    StructField(\"habito_dt\", StringType()),\n",
        "    StructField(\"activacion\", IntegerType()),\n",
        "    StructField(\"activacion_dt\", StringType()),\n",
        "    StructField(\"setup\", IntegerType()),\n",
        "    StructField(\"setup_dt\", StringType()),\n",
        "    StructField(\"return\", IntegerType()),\n",
        "])"
      ],
      "metadata": {
        "id": "XQ_nJjnvQRHG"
      },
      "execution_count": null,
      "outputs": []
    },
    {
      "cell_type": "code",
      "source": [
        "# Se define el esquema de transactions\n",
        "schema_transactions_univ = StructType([\n",
        "    StructField(\"user_id\", StringType()),\n",
        "    StructField(\"transaction_dt\", StringType()),\n",
        "    StructField(\"type\", IntegerType()),\n",
        "    StructField(\"segment\", IntegerType())\n",
        "])"
      ],
      "metadata": {
        "id": "zjEQMxbXQVVU"
      },
      "execution_count": null,
      "outputs": []
    },
    {
      "cell_type": "code",
      "source": [
        "# Se recorre los documentos de users y con cada registro se crea una lista de tuplas\n",
        "reg_users_univ = [\n",
        "    (\n",
        "        str(doc.get(\"user_id\", \"\")),\n",
        "        int(doc.get(\"rubro\", 0))\n",
        "    )\n",
        "    for doc in users_univ.find()\n",
        "]"
      ],
      "metadata": {
        "id": "sgz8ovFSRr1v"
      },
      "execution_count": null,
      "outputs": []
    },
    {
      "cell_type": "code",
      "source": [
        "# Se recorre los documentos de onboarding y con cada registro se crea una lista de tuplas\n",
        "reg_onboarding_univ = [\n",
        "    (\n",
        "        str(doc.get(\"user_id\", \"\")),\n",
        "        str(doc.get(\"first_login_dt\", \"\")),\n",
        "        int(doc.get(\"week_year\", 0)),\n",
        "        int(doc.get(\"habito\", 0)),\n",
        "        str(doc.get(\"habito_dt\", \"\")),\n",
        "        int(doc.get(\"activacion\", 0)),\n",
        "        str(doc.get(\"activacion_dt\", \"\")),\n",
        "        int(doc.get(\"setup\", 0)),\n",
        "        str(doc.get(\"setup_dt\", \"\")),\n",
        "        int(doc.get(\"return\", 0)),\n",
        "    )\n",
        "    for doc in onboardin_univ.find()\n",
        "]"
      ],
      "metadata": {
        "id": "R5gcuSjMRwHP"
      },
      "execution_count": null,
      "outputs": []
    },
    {
      "cell_type": "code",
      "source": [
        "# Se recorre los documentos de transactions y con cada registro se crea una lista de tuplas\n",
        "reg_transactions_univ = [\n",
        "    (\n",
        "        str(doc.get(\"user_id\", \"\")),\n",
        "        str(doc.get(\"transaction_dt\", \"\")),\n",
        "        int(doc.get(\"type\", 0)),\n",
        "        int(doc.get(\"segment\", 0)),\n",
        "        )\n",
        "    for doc in transactions_univ.find()\n",
        "]"
      ],
      "metadata": {
        "id": "el1hZxsGRwyV"
      },
      "execution_count": null,
      "outputs": []
    },
    {
      "cell_type": "code",
      "source": [
        "# Se crea el df de spark para users\n",
        "users_df_univ = spark.createDataFrame(reg_users_univ, schema_users_univ)"
      ],
      "metadata": {
        "id": "7bfcwSOGTLv3"
      },
      "execution_count": null,
      "outputs": []
    },
    {
      "cell_type": "code",
      "source": [
        "# Se crea el df de spark para onboarding\n",
        "onboarding_df_univ = spark.createDataFrame(reg_onboarding_univ, schema_onboarding_univ)"
      ],
      "metadata": {
        "id": "yXNId8C-TRWu"
      },
      "execution_count": null,
      "outputs": []
    },
    {
      "cell_type": "code",
      "source": [
        "# Se crea el df de spark para transactions\n",
        "transactions_df_univ = spark.createDataFrame(reg_transactions_univ, schema_transactions_univ)"
      ],
      "metadata": {
        "id": "Ie-diuJKTVbP"
      },
      "execution_count": null,
      "outputs": []
    },
    {
      "cell_type": "markdown",
      "metadata": {
        "id": "BlUMK4mLM4Pf"
      },
      "source": [
        "### Creacion de esquema y tablas en SQL capa Smart"
      ]
    },
    {
      "cell_type": "code",
      "execution_count": null,
      "metadata": {
        "colab": {
          "base_uri": "https://localhost:8080/"
        },
        "id": "gTBDyOzoODHd",
        "outputId": "1adfb13a-372a-4716-e259-9e8439c25988"
      },
      "outputs": [
        {
          "output_type": "execute_result",
          "data": {
            "text/plain": [
              "DataFrame[]"
            ]
          },
          "metadata": {},
          "execution_count": 75
        }
      ],
      "source": [
        "# Creacion de esquema SMART\n",
        "spark.sql(\n",
        "    \"\"\"\n",
        "    CREATE SCHEMA IF NOT EXISTS SMART\n",
        "    \"\"\"\n",
        ")"
      ]
    },
    {
      "cell_type": "code",
      "execution_count": null,
      "metadata": {
        "colab": {
          "base_uri": "https://localhost:8080/"
        },
        "id": "n2Ca5DT0NpFv",
        "outputId": "53602d48-5fa2-4382-bfa3-819f638be2d7"
      },
      "outputs": [
        {
          "output_type": "execute_result",
          "data": {
            "text/plain": [
              "DataFrame[]"
            ]
          },
          "metadata": {},
          "execution_count": 76
        }
      ],
      "source": [
        "# Se crea tabla users\n",
        "spark.sql(\n",
        "    \"\"\"\n",
        "    CREATE TABLE IF NOT EXISTS SMART.users (\n",
        "        user_id STRING,\n",
        "        rubro INT\n",
        "    )\n",
        "\n",
        "    \"\"\"\n",
        ")"
      ]
    },
    {
      "cell_type": "code",
      "execution_count": null,
      "metadata": {
        "colab": {
          "base_uri": "https://localhost:8080/"
        },
        "id": "eO4lj4hDiOis",
        "outputId": "095d04c4-68bb-4fc8-94ee-9fcfc140a32e"
      },
      "outputs": [
        {
          "output_type": "execute_result",
          "data": {
            "text/plain": [
              "DataFrame[]"
            ]
          },
          "metadata": {},
          "execution_count": 77
        }
      ],
      "source": [
        "# Se insertan los registros en la tabla users\n",
        "users_df_univ.createOrReplaceTempView(\"users_df_view\")\n",
        "\n",
        "spark.sql(\n",
        "    \"\"\"\n",
        "    INSERT INTO SMART.users\n",
        "    SELECT *\n",
        "    FROM users_df_view\n",
        "    \"\"\"\n",
        ")"
      ]
    },
    {
      "cell_type": "code",
      "execution_count": null,
      "metadata": {
        "colab": {
          "base_uri": "https://localhost:8080/"
        },
        "id": "uljpCC_gN2MY",
        "outputId": "d613d20c-2390-4791-83aa-8166ccc2e0b9"
      },
      "outputs": [
        {
          "output_type": "execute_result",
          "data": {
            "text/plain": [
              "DataFrame[]"
            ]
          },
          "metadata": {},
          "execution_count": 78
        }
      ],
      "source": [
        "# Se crea tabla onboarding\n",
        "spark.sql(\n",
        "    \"\"\"\n",
        "    CREATE TABLE IF NOT EXISTS SMART.onboarding (\n",
        "        user_id STRING,\n",
        "        first_login_dt DATE,\n",
        "        week_year INT,\n",
        "        habito FLOAT,\n",
        "        habito_dt DATE,\n",
        "        activacion INT,\n",
        "        activacion_dt DATE,\n",
        "        setup INT,\n",
        "        setup_dt DATE,\n",
        "        return INT\n",
        "    )\n",
        "\n",
        "    \"\"\"\n",
        ")"
      ]
    },
    {
      "cell_type": "code",
      "execution_count": null,
      "metadata": {
        "colab": {
          "base_uri": "https://localhost:8080/"
        },
        "id": "RIHXHKX9PJhm",
        "outputId": "09316934-261c-4733-a4fc-abc9164cce48"
      },
      "outputs": [
        {
          "output_type": "execute_result",
          "data": {
            "text/plain": [
              "DataFrame[]"
            ]
          },
          "metadata": {},
          "execution_count": 79
        }
      ],
      "source": [
        "# Se insertan los registros en la tabla onboarding\n",
        "onboarding_df_univ.createOrReplaceTempView(\"onboarding_df_view\")\n",
        "\n",
        "spark.sql(\n",
        "    \"\"\"\n",
        "    INSERT INTO SMART.onboarding (user_id, first_login_dt, week_year, habito, habito_dt, activacion, activacion_dt, setup, setup_dt, return)\n",
        "    SELECT\n",
        "        user_id,\n",
        "        CAST(first_login_dt AS DATE),\n",
        "        week_year,\n",
        "        habito,\n",
        "        CAST(habito_dt AS DATE),\n",
        "        activacion,\n",
        "        CAST(activacion_dt AS DATE),\n",
        "        setup,\n",
        "        CAST(setup_dt AS DATE),\n",
        "        return\n",
        "    FROM onboarding_df_view\n",
        "    \"\"\"\n",
        ")"
      ]
    },
    {
      "cell_type": "code",
      "execution_count": null,
      "metadata": {
        "colab": {
          "base_uri": "https://localhost:8080/"
        },
        "id": "rVgFEXkuPpDF",
        "outputId": "8a25258d-61bb-4665-e9db-6dfd40ccec7e"
      },
      "outputs": [
        {
          "output_type": "execute_result",
          "data": {
            "text/plain": [
              "DataFrame[]"
            ]
          },
          "metadata": {},
          "execution_count": 80
        }
      ],
      "source": [
        "# Se crea tabla transactions\n",
        "spark.sql(\n",
        "    \"\"\"\n",
        "    CREATE TABLE IF NOT EXISTS SMART.transactions(\n",
        "        user_id STRING,\n",
        "        transaction_dt TIMESTAMP,\n",
        "        type INT,\n",
        "        segment INT\n",
        "\n",
        "    )\n",
        "\n",
        "    \"\"\"\n",
        ")"
      ]
    },
    {
      "cell_type": "code",
      "execution_count": null,
      "metadata": {
        "colab": {
          "base_uri": "https://localhost:8080/"
        },
        "id": "DAzwQfysRNbi",
        "outputId": "bca0c943-a99f-4d4b-a7de-4353e1fb3cc5"
      },
      "outputs": [
        {
          "output_type": "execute_result",
          "data": {
            "text/plain": [
              "DataFrame[]"
            ]
          },
          "metadata": {},
          "execution_count": 81
        }
      ],
      "source": [
        "# Se insertan los registros en la tabla transactions\n",
        "transactions_df_univ.createOrReplaceTempView(\"transactions_df_view\")\n",
        "\n",
        "spark.sql(\n",
        "    \"\"\"\n",
        "    INSERT INTO SMART.transactions\n",
        "    SELECT\n",
        "        user_id,\n",
        "        CAST(transaction_dt AS TIMESTAMP),\n",
        "        type,\n",
        "        segment\n",
        "    FROM transactions_df_view\n",
        "    \"\"\"\n",
        ")"
      ]
    },
    {
      "cell_type": "markdown",
      "source": [
        "Teniendo las tablas creadas y listas para consumir en Spark, utilizamos Querys de SQL para ir respondiendo las distintas preguntas de negocio que se formularon."
      ],
      "metadata": {
        "id": "ZAoOX14lnllT"
      }
    },
    {
      "cell_type": "code",
      "execution_count": null,
      "metadata": {
        "colab": {
          "base_uri": "https://localhost:8080/"
        },
        "id": "VLvMFFNsUSZD",
        "outputId": "9c9526a9-8c54-4a14-9ca7-e5d9855403ef"
      },
      "outputs": [
        {
          "output_type": "stream",
          "name": "stdout",
          "text": [
            "+-------------------+\n",
            "|          drop_rate|\n",
            "+-------------------+\n",
            "|0.29046153846153844|\n",
            "+-------------------+\n",
            "\n"
          ]
        }
      ],
      "source": [
        "spark.sql(\n",
        "    \"\"\"\n",
        "    SELECT 1- (SUM(return) / COUNT(*)) AS drop_rate\n",
        "    FROM SMART.onboarding\n",
        "    \"\"\"\n",
        ").show()"
      ]
    },
    {
      "cell_type": "code",
      "execution_count": null,
      "metadata": {
        "colab": {
          "base_uri": "https://localhost:8080/"
        },
        "id": "HbjISSXClN7L",
        "outputId": "d5f81fcd-f3d2-41a5-b015-5c703f49debf"
      },
      "outputs": [
        {
          "output_type": "stream",
          "name": "stdout",
          "text": [
            "+-------------------+\n",
            "|    activation_rate|\n",
            "+-------------------+\n",
            "|0.11807692307692308|\n",
            "+-------------------+\n",
            "\n"
          ]
        }
      ],
      "source": [
        "spark.sql(\n",
        "    \"\"\"\n",
        "    SELECT SUM(activacion) / COUNT(*) AS activation_rate\n",
        "    FROM SMART.onboarding\n",
        "    \"\"\"\n",
        ").show()"
      ]
    },
    {
      "cell_type": "code",
      "execution_count": null,
      "metadata": {
        "colab": {
          "base_uri": "https://localhost:8080/"
        },
        "id": "lSEhVknHCFcQ",
        "outputId": "481f41d5-94ed-4da8-acf6-08d8520da4a6"
      },
      "outputs": [
        {
          "output_type": "stream",
          "name": "stdout",
          "text": [
            "+------------------+\n",
            "|        setup_rate|\n",
            "+------------------+\n",
            "|0.4460769230769231|\n",
            "+------------------+\n",
            "\n"
          ]
        }
      ],
      "source": [
        "spark.sql(\n",
        "    \"\"\"\n",
        "    SELECT SUM(setup) / COUNT(*) AS setup_rate\n",
        "    FROM SMART.onboarding\n",
        "\n",
        "\n",
        "\n",
        "    \"\"\"\n",
        ").show()"
      ]
    },
    {
      "cell_type": "code",
      "execution_count": null,
      "metadata": {
        "colab": {
          "base_uri": "https://localhost:8080/"
        },
        "id": "Z517BebQKf02",
        "outputId": "54f3cf71-b1dc-4cd8-ddbb-776e0c7a5ec4"
      },
      "outputs": [
        {
          "output_type": "stream",
          "name": "stdout",
          "text": [
            "+--------------+--------------------+\n",
            "|       user_id|      transaction_dt|\n",
            "+--------------+--------------------+\n",
            "| MLB3120760160|2022-02-04 22:04:...|\n",
            "| MLB3626692100| 2022-01-27 00:00:00|\n",
            "| MLB4568373170|2022-02-27 17:47:...|\n",
            "| MLB5742173940|2022-01-27 13:30:...|\n",
            "|MLB10614454400|2022-02-18 16:30:...|\n",
            "|MLB10617979960|2022-02-01 08:34:...|\n",
            "| MLB6671538600|2022-02-18 07:17:...|\n",
            "|MLB10628393100| 2022-01-25 00:00:00|\n",
            "|MLB10644446360|2022-02-16 02:21:...|\n",
            "|MLB10641386330|2022-01-28 19:04:...|\n",
            "|MLB10575273520|2022-02-04 23:21:...|\n",
            "|MLB10655448410|2022-02-06 22:43:...|\n",
            "|MLB10495482340|2022-01-13 07:55:...|\n",
            "| MLB8141537210|2022-01-19 03:00:...|\n",
            "|MLB10512354980|2022-01-08 19:04:...|\n",
            "|MLB10613812040| 2022-01-22 00:00:00|\n",
            "|MLB10585813380|2022-01-30 23:21:...|\n",
            "| MLB3350248620|2022-01-09 18:25:...|\n",
            "| MLB7813965430|2022-01-25 17:08:...|\n",
            "|MLB10640415220| 2022-02-02 00:00:00|\n",
            "+--------------+--------------------+\n",
            "only showing top 20 rows\n",
            "\n"
          ]
        }
      ],
      "source": [
        "spark.sql(\n",
        "    \"\"\"\n",
        "    WITH FirstTransaction AS (\n",
        "        SELECT\n",
        "            user_id,\n",
        "            segment,\n",
        "            MIN(transaction_dt) AS first_transaction_dt\n",
        "        FROM SMART.transactions\n",
        "        GROUP BY user_id, segment\n",
        "    )\n",
        "    SELECT\n",
        "        t.user_id,\n",
        "        t.transaction_dt\n",
        "    FROM SMART.transactions t\n",
        "    JOIN FirstTransaction ft ON t.user_id = ft.user_id AND t.segment = ft.segment\n",
        "    WHERE t.transaction_dt BETWEEN ft.first_transaction_dt AND ft.first_transaction_dt + INTERVAL 30 DAY\n",
        "\n",
        "    \"\"\"\n",
        ").show()"
      ]
    },
    {
      "cell_type": "code",
      "execution_count": null,
      "metadata": {
        "colab": {
          "base_uri": "https://localhost:8080/"
        },
        "id": "GZEgGJsE4f3d",
        "outputId": "f5602914-9818-4457-f4bc-5cb850cd2392"
      },
      "outputs": [
        {
          "output_type": "stream",
          "name": "stdout",
          "text": [
            "+------------------+\n",
            "|Habito_individuals|\n",
            "+------------------+\n",
            "|              4758|\n",
            "+------------------+\n",
            "\n"
          ]
        }
      ],
      "source": [
        "spark.sql(\n",
        "    \"\"\"\n",
        "    SELECT COUNT(user_id) AS Habito_individuals\n",
        "\n",
        "\n",
        "\n",
        "    FROM (\n",
        "      WITH FirstTransaction AS (\n",
        "        SELECT\n",
        "            user_id,\n",
        "            segment,\n",
        "            MIN(transaction_dt) AS first_transaction_dt\n",
        "\n",
        "        FROM SMART.transactions\n",
        "        WHERE segment = 1\n",
        "        GROUP BY user_id, segment\n",
        "    )\n",
        "    SELECT\n",
        "        t.user_id,\n",
        "        t.transaction_dt\n",
        "    FROM SMART.transactions t\n",
        "    JOIN FirstTransaction ft ON t.user_id = ft.user_id AND t.segment = ft.segment\n",
        "    WHERE t.transaction_dt BETWEEN ft.first_transaction_dt AND ft.first_transaction_dt + INTERVAL 30 DAY\n",
        "        ) AS subquery\n",
        "\n",
        "\n",
        "    \"\"\"\n",
        ").show()"
      ]
    },
    {
      "cell_type": "code",
      "execution_count": null,
      "metadata": {
        "colab": {
          "base_uri": "https://localhost:8080/"
        },
        "outputId": "2a7c12aa-083e-4a6f-f4e7-bfdf4eac9e50",
        "id": "AcT3V6E5tL9H"
      },
      "outputs": [
        {
          "output_type": "stream",
          "name": "stdout",
          "text": [
            "+--------------+\n",
            "|Habito_sellers|\n",
            "+--------------+\n",
            "|           505|\n",
            "+--------------+\n",
            "\n"
          ]
        }
      ],
      "source": [
        "spark.sql(\n",
        "    \"\"\"\n",
        "    SELECT COUNT(user_id) AS Habito_sellers\n",
        "\n",
        "\n",
        "\n",
        "    FROM (\n",
        "      WITH FirstTransaction AS (\n",
        "        SELECT\n",
        "            user_id,\n",
        "            segment,\n",
        "            MIN(transaction_dt) AS first_transaction_dt\n",
        "\n",
        "        FROM SMART.transactions\n",
        "        WHERE segment = 2\n",
        "        GROUP BY user_id, segment\n",
        "    )\n",
        "    SELECT\n",
        "        t.user_id\n",
        "\n",
        "    FROM SMART.transactions t\n",
        "    JOIN FirstTransaction ft ON t.user_id = ft.user_id AND t.segment = ft.segment\n",
        "    WHERE t.transaction_dt BETWEEN ft.first_transaction_dt AND ft.first_transaction_dt + INTERVAL 30 DAY\n",
        "        ) AS subquery\n",
        "\n",
        "\n",
        "    \"\"\"\n",
        ").show()"
      ]
    }
  ],
  "metadata": {
    "colab": {
      "provenance": []
    },
    "kernelspec": {
      "display_name": "Python 3",
      "name": "python3"
    },
    "language_info": {
      "name": "python"
    }
  },
  "nbformat": 4,
  "nbformat_minor": 0
}